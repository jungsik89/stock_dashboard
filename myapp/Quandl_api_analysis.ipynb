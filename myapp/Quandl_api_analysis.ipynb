{
 "cells": [
  {
   "cell_type": "code",
   "execution_count": null,
   "metadata": {},
   "outputs": [],
   "source": [
    "import datetime as dt \n",
    "from datetime import date\n",
    "import matplotlib.pyplot as plt\n",
    "from matplotlib import style\n",
    "import pandas as pd\n",
    "import quandl\n",
    "import pandas_datareader as web\n",
    "import numpy as np\n",
    "from config import quandl_apikey\n",
    "import requests\n",
    "from sqlalchemy import create_engine\n",
    "import plotly.graph_objects as go\n",
    "import plotly"
   ]
  },
  {
   "cell_type": "code",
   "execution_count": null,
   "metadata": {},
   "outputs": [],
   "source": [
    "#enter the stock to query\n",
    "query_stock = \"GOOGL\"\n",
    "#quandl.ApiConfig.api_key = quandl_apikey"
   ]
  },
  {
   "cell_type": "code",
   "execution_count": null,
   "metadata": {},
   "outputs": [],
   "source": [
    "#api_url = f\"https://www.quandl.com/api/v3/datasets/EOD/{query_stock}.csv?api_key={quandl_apikey}\""
   ]
  },
  {
   "cell_type": "code",
   "execution_count": null,
   "metadata": {},
   "outputs": [],
   "source": [
    "#url = \"https://www.quandl.com/api/v3/datasets/WIKI/AAPL.csv\""
   ]
  },
  {
   "cell_type": "code",
   "execution_count": null,
   "metadata": {},
   "outputs": [],
   "source": [
    "#request_1 = requests.get(url)"
   ]
  },
  {
   "cell_type": "markdown",
   "metadata": {},
   "source": [
    "# PARAMETER: for filtering \n",
    "#qopts.columns\n",
    "#Request data from specific columns by passing the qopts.columns parameter. If you want to query for multiple columns, include #the column names separated by a comma.\n",
    "\n",
    "#FILTERS:\n",
    "#.gte=\n",
    "\n",
    "#Modifies the parameter to return values greater than or equal to the requested value\n",
    "#.lte=\n",
    "#Modifies the parameter to return values less than or equal to the requested value"
   ]
  },
  {
   "cell_type": "code",
   "execution_count": null,
   "metadata": {},
   "outputs": [],
   "source": [
    "#“WIKI/PRICES”\n",
    "##WIKI IS END OF DAY US STOCK PRICES\n"
   ]
  },
  {
   "cell_type": "code",
   "execution_count": null,
   "metadata": {},
   "outputs": [],
   "source": [
    "# get the table for daily stock prices and,\n",
    "# filter the table for selected tickers, columns within a time range\n",
    "# set paginate to True because Quandl limits tables API to 10,000 rows per call\n",
    "\n",
    "# data = quandl.get_table('WIKI/PRICES', ticker = ['AAPL', 'MSFT', 'WMT'], \n",
    "#                     qopts = { 'columns': ['ticker', 'date', 'adj_close'] }, \n",
    "#                     date = { 'gte': '2015-12-31', 'lte': '2016-12-31' }, \n",
    "#                     paginate=True)\n",
    "#data"
   ]
  },
  {
   "cell_type": "code",
   "execution_count": null,
   "metadata": {},
   "outputs": [],
   "source": [
    "#data.info()"
   ]
  },
  {
   "cell_type": "code",
   "execution_count": null,
   "metadata": {},
   "outputs": [],
   "source": [
    "#data.describe()"
   ]
  },
  {
   "cell_type": "code",
   "execution_count": null,
   "metadata": {},
   "outputs": [],
   "source": [
    "# create a new dataframe with 'date' column as index\n",
    "#new = data.set_index('date')\n",
    "\n",
    "# use pandas pivot function to sort adj_close by tickers\n",
    "#clean_data = new.pivot(columns='ticker')\n",
    "\n",
    "# check the head of the output\n",
    "#clean_data.head()"
   ]
  },
  {
   "cell_type": "code",
   "execution_count": null,
   "metadata": {},
   "outputs": [],
   "source": [
    "#clean_data.tail()"
   ]
  },
  {
   "cell_type": "code",
   "execution_count": null,
   "metadata": {},
   "outputs": [],
   "source": [
    "#clean_data.index"
   ]
  },
  {
   "cell_type": "code",
   "execution_count": null,
   "metadata": {},
   "outputs": [],
   "source": [
    "#plt.plot(clean_data.index, clean_data['adj_close']['AAPL'])\n",
    "#plt.plot(clean_data.index, clean_data['adj_close']['MSFT'])"
   ]
  },
  {
   "cell_type": "code",
   "execution_count": null,
   "metadata": {},
   "outputs": [],
   "source": [
    "#plt.bar(clean_data.index, clean_data['adj_close']['WMT'])"
   ]
  },
  {
   "cell_type": "code",
   "execution_count": null,
   "metadata": {},
   "outputs": [],
   "source": [
    "#data_tsx = quandl.get_table('TSX/', ticker = ['AAPL', 'MSFT', 'WMT'], \n",
    "                 #       qopts = { 'columns': ['ticker', 'date', 'adj_close'] }, \n",
    "                  #      date = { 'gte': '2015-12-31', 'lte': '2016-12-31' }, \n",
    "                   #     paginate=True)\n",
    "#data_tsx"
   ]
  },
  {
   "cell_type": "code",
   "execution_count": null,
   "metadata": {},
   "outputs": [],
   "source": [
    "#data_query = quandl.get(\"EIA/PET_RWTC_D\")"
   ]
  },
  {
   "cell_type": "code",
   "execution_count": null,
   "metadata": {},
   "outputs": [],
   "source": [
    "#plt.plot(data_query.index, data_query['Value'])"
   ]
  },
  {
   "cell_type": "code",
   "execution_count": null,
   "metadata": {},
   "outputs": [],
   "source": [
    "#tabledata\n",
    "#do not need\n",
    "#data = quandl.get_table('ZACKS/FC', paginate=True)"
   ]
  },
  {
   "cell_type": "code",
   "execution_count": null,
   "metadata": {},
   "outputs": [],
   "source": [
    "#Getting forbidden error. \n",
    "#quandl.bulkdownload(\"AAPL\")\n",
    "#Stocks\n",
    "#Apple - AAPL\n",
    "#Microsoft - MSFT\n",
    "#Walmart - WMT\n",
    "#"
   ]
  },
  {
   "cell_type": "code",
   "execution_count": null,
   "metadata": {},
   "outputs": [],
   "source": [
    "def getStock(target_stock):\n",
    "    \n",
    "    \n",
    "    \n",
    "    \n",
    "    to_database = {\n",
    "        \"5dmva\":\n",
    "        \"20dmva\":\n",
    "        \"10mva\": news_title,\n",
    "        \"40mva\": news_p,\n",
    "        \"closing\": full_image_url,\n",
    "        \"opening\":mars_weather\n",
    "\n",
    "    }\n",
    "      scraped_data = {\n",
    "\n",
    "        \"news_title\": news_title,\n",
    "        \"news_paragraph\": news_p,\n",
    "        \"image_url\": full_image_url,\n",
    "        \"mars_info\":mars_weather\n",
    "\n",
    "    }\n",
    "    \n",
    "    return to_database"
   ]
  },
  {
   "cell_type": "code",
   "execution_count": null,
   "metadata": {},
   "outputs": [],
   "source": [
    "# pstock = target_stock"
   ]
  },
  {
   "cell_type": "code",
   "execution_count": null,
   "metadata": {},
   "outputs": [],
   "source": [
    "pstock = 'AAPL'"
   ]
  },
  {
   "cell_type": "code",
   "execution_count": null,
   "metadata": {},
   "outputs": [],
   "source": [
    "time_api = f\"https://www.quandl.com/api/v3/datasets/WIKI/{pstock}/data.json?api_key={quandl_apikey}\""
   ]
  },
  {
   "cell_type": "code",
   "execution_count": null,
   "metadata": {},
   "outputs": [],
   "source": [
    "tquery_stock = requests.get(time_api)"
   ]
  },
  {
   "cell_type": "code",
   "execution_count": null,
   "metadata": {},
   "outputs": [],
   "source": [
    "stock_json = tquery_stock.json()"
   ]
  },
  {
   "cell_type": "code",
   "execution_count": null,
   "metadata": {},
   "outputs": [],
   "source": [
    "df = pd.DataFrame(stock_json['dataset_data']['data'],columns= stock_json['dataset_data']['column_names'])"
   ]
  },
  {
   "cell_type": "code",
   "execution_count": null,
   "metadata": {},
   "outputs": [],
   "source": []
  },
  {
   "cell_type": "code",
   "execution_count": null,
   "metadata": {},
   "outputs": [],
   "source": []
  },
  {
   "cell_type": "code",
   "execution_count": null,
   "metadata": {},
   "outputs": [],
   "source": [
    "df"
   ]
  },
  {
   "cell_type": "code",
   "execution_count": null,
   "metadata": {},
   "outputs": [],
   "source": [
    "df.columns"
   ]
  },
  {
   "cell_type": "code",
   "execution_count": null,
   "metadata": {},
   "outputs": [],
   "source": [
    "\n"
   ]
  },
  {
   "cell_type": "code",
   "execution_count": null,
   "metadata": {},
   "outputs": [],
   "source": []
  },
  {
   "cell_type": "code",
   "execution_count": null,
   "metadata": {},
   "outputs": [],
   "source": [
    "#today = date.today()"
   ]
  },
  {
   "cell_type": "code",
   "execution_count": null,
   "metadata": {},
   "outputs": [],
   "source": [
    "df['Date'] = pd.to_datetime(df['Date'])\n",
    "\n",
    "df = df.set_index(df['Date'],drop=True)\n",
    "\n",
    "last_day = df.index[0]"
   ]
  },
  {
   "cell_type": "code",
   "execution_count": null,
   "metadata": {},
   "outputs": [],
   "source": [
    "df.info()"
   ]
  },
  {
   "cell_type": "code",
   "execution_count": null,
   "metadata": {},
   "outputs": [],
   "source": [
    "last_day"
   ]
  },
  {
   "cell_type": "code",
   "execution_count": null,
   "metadata": {},
   "outputs": [],
   "source": [
    "years = 2\n",
    "days_per_year = 365.24\n",
    "after_date = last_day - dt.timedelta(days=(years*days_per_year))"
   ]
  },
  {
   "cell_type": "code",
   "execution_count": null,
   "metadata": {},
   "outputs": [],
   "source": [
    "#targets index. do not need to specify\n",
    "df2 = df.truncate(after = after_date)"
   ]
  },
  {
   "cell_type": "code",
   "execution_count": null,
   "metadata": {},
   "outputs": [],
   "source": [
    "# df_fb_tq_2year.head().to_csv(\"df_2year.csv\")"
   ]
  },
  {
   "cell_type": "code",
   "execution_count": null,
   "metadata": {},
   "outputs": [],
   "source": [
    "df2"
   ]
  },
  {
   "cell_type": "code",
   "execution_count": null,
   "metadata": {},
   "outputs": [],
   "source": [
    "def convertdate(x):\n",
    "    x = pd.to_datetime(x,format='%Y-%m-%d')\n",
    "    return x\n",
    "\n",
    "def convertunix(x):\n",
    "    x = pd.to_datetime(x,unit='s')\n",
    "    return x"
   ]
  },
  {
   "cell_type": "code",
   "execution_count": null,
   "metadata": {},
   "outputs": [],
   "source": [
    "launch_df = launches_df.rename(columns={'launch_date_unix':'launch_date'})"
   ]
  },
  {
   "cell_type": "code",
   "execution_count": null,
   "metadata": {},
   "outputs": [],
   "source": [
    "launches_df['launch_date_unix'] = launches_df['launch_date_unix'].apply(convertdate)\n",
    "launches_df['static_fire_date_utc'] = launches_df['static_fire_date_utc'].apply(convertdate)\n",
    "launches_df = launches_df.drop(columns=['rocket','launch_site','launch_failure_details','links'])\n",
    "launch_df = launches_df.rename(columns={'launch_date_unix':'launch_date'})\n",
    "launch_df = launches_df.rename(columns={'static_fire_date_utc':'static_fire_date'})"
   ]
  },
  {
   "cell_type": "code",
   "execution_count": null,
   "metadata": {},
   "outputs": [],
   "source": [
    "df2"
   ]
  },
  {
   "cell_type": "code",
   "execution_count": null,
   "metadata": {},
   "outputs": [],
   "source": [
    "\n",
    "df['Ticker'] = pstock\n",
    "\n",
    "\n",
    "#before transfomration the dtype is object. \n",
    "df['Date'] = pd.to_datetime(df['Date'])\n",
    "\n",
    "\n",
    "#volume mva\n",
    "volume_price = df2['Adj. Volume']\n",
    "df2['vol_10wk_mvg'] = volume_price.rolling(window=70).mean()\n",
    "\n",
    "#close mva calculation\n",
    "close_px = df_fb_tq_2year['Adj. Close']\n",
    "df_fb_tq_2year['close_10week_mvg'] = close_px.rolling(window=70).mean()\n",
    "df_fb_tq_2year['close_40week_mvg'] = close_px.rolling(window=280).mean()\n",
    "\n",
    "\n",
    "#Creating Daily lag\n",
    "df_fb_tq_2year['daily_Lag'] = df_fb_tq_2year['Adj. Close'].shift(1)\n",
    "df_fb_tq_2year.head()\n",
    "\n",
    "#Daily Return rate\n",
    "df_fb_tq_2year['daily_Returns'] = (df_fb_tq_2year['daily_Lag']/df_fb_tq_2year['Adj. Close']) -1\n",
    "\n",
    "#Some sort of return analysis\n",
    "#"
   ]
  },
  {
   "cell_type": "code",
   "execution_count": null,
   "metadata": {},
   "outputs": [],
   "source": [
    "df_fb_tq_2year"
   ]
  },
  {
   "cell_type": "code",
   "execution_count": null,
   "metadata": {},
   "outputs": [],
   "source": []
  },
  {
   "cell_type": "code",
   "execution_count": null,
   "metadata": {},
   "outputs": [],
   "source": []
  },
  {
   "cell_type": "code",
   "execution_count": null,
   "metadata": {},
   "outputs": [],
   "source": []
  },
  {
   "cell_type": "code",
   "execution_count": null,
   "metadata": {},
   "outputs": [],
   "source": [
    "# def SMA(x):\n",
    "#     for x in range(10):\n",
    "#         x = x + x\n",
    "#         print(x)\n",
    "#     x = x / 10\n",
    "#     return x\n",
    "\n",
    "# SMA([1,2,3,4,5,6,7,8,9,10])"
   ]
  },
  {
   "cell_type": "code",
   "execution_count": null,
   "metadata": {},
   "outputs": [],
   "source": [
    "# df_fb_tq_2year['Adj. Volume'][:10]"
   ]
  },
  {
   "cell_type": "code",
   "execution_count": null,
   "metadata": {},
   "outputs": [],
   "source": []
  },
  {
   "cell_type": "code",
   "execution_count": null,
   "metadata": {},
   "outputs": [],
   "source": [
    "bin_length_10week = len(df_fb_tq_2year.index) / 70\n",
    "bin_length_40week = len(df_fb_tq_2year.index) / 280"
   ]
  },
  {
   "cell_type": "code",
   "execution_count": null,
   "metadata": {},
   "outputs": [],
   "source": [
    "df_by_volume_7day_2year = df_fb_tq_2year.resample(\"W\").sum()[\"Volume\"]"
   ]
  },
  {
   "cell_type": "code",
   "execution_count": null,
   "metadata": {},
   "outputs": [],
   "source": [
    "df_7day_volume_clean = pd.DataFrame(df_by_volume_7day_2year)"
   ]
  },
  {
   "cell_type": "code",
   "execution_count": null,
   "metadata": {},
   "outputs": [],
   "source": [
    "df_7day_volume_clean.index = pd.to_datetime(df_7day_volume_clean.index, format=\"%Y-%m-%d\")"
   ]
  },
  {
   "cell_type": "code",
   "execution_count": null,
   "metadata": {},
   "outputs": [],
   "source": [
    "df_7day_volume_clean['Date'] = df_7day_volume_clean.index"
   ]
  },
  {
   "cell_type": "code",
   "execution_count": null,
   "metadata": {},
   "outputs": [],
   "source": [
    "df_7day_volume_clean.info()"
   ]
  },
  {
   "cell_type": "code",
   "execution_count": null,
   "metadata": {},
   "outputs": [],
   "source": [
    "df_7day_volume_clean"
   ]
  },
  {
   "cell_type": "code",
   "execution_count": null,
   "metadata": {},
   "outputs": [],
   "source": [
    "plt.plot(df_7day_volume_clean['Date'],df_7day_volume_clean['Volume'])"
   ]
  },
  {
   "cell_type": "code",
   "execution_count": null,
   "metadata": {},
   "outputs": [],
   "source": [
    "df_by_volume_10week =  df_fb_tq_2year.groupby(pd.cut(df_fb_tq_2year.index, bins=bin_length_10week, \n",
    "        precision=0))[\"Volume\"].sum()"
   ]
  },
  {
   "cell_type": "code",
   "execution_count": null,
   "metadata": {},
   "outputs": [],
   "source": [
    "df_by_volume_10week = pd.DataFrame(df_by_volume_10week)"
   ]
  },
  {
   "cell_type": "code",
   "execution_count": null,
   "metadata": {},
   "outputs": [],
   "source": [
    "df_by_volume_10week = df_by_volume_10week.reset_index(drop=True)\n",
    "df_by_volume_10week['Volume'] = df_by_volume_10week['Volume'] / bin_length_10week"
   ]
  },
  {
   "cell_type": "code",
   "execution_count": null,
   "metadata": {},
   "outputs": [],
   "source": [
    "##VWAP"
   ]
  },
  {
   "cell_type": "code",
   "execution_count": null,
   "metadata": {},
   "outputs": [],
   "source": [
    "#simple moving average\n",
    "# df_7day_volume_clean['SMA']\n"
   ]
  },
  {
   "cell_type": "code",
   "execution_count": null,
   "metadata": {},
   "outputs": [],
   "source": [
    "# bin_length_ten = np.round(bin_length_10week)\n",
    "# bin_length_forty = np.round(bin_length_40week)"
   ]
  },
  {
   "cell_type": "code",
   "execution_count": null,
   "metadata": {},
   "outputs": [],
   "source": [
    "# df_by_close_10week =  df_fb_tq_2year.groupby(pd.cut(df_fb_tq_2year.index, bins=bin_length_ten, \n",
    "#         precision=0))[\"Adj. Close\"].sum()\n",
    "# df_by_close_40week =  df_fb_tq_2year.groupby(pd.cut(df_fb_tq_2year.index, bins=bin_length_forty, \n",
    "#         precision=0))[\"Adj. Close\"].sum()"
   ]
  },
  {
   "cell_type": "code",
   "execution_count": null,
   "metadata": {},
   "outputs": [],
   "source": [
    "# df_by_close_10week = pd.DataFrame(df_by_close_10week)\n",
    "# df_by_close_40week = pd.DataFrame(df_by_close_40week)"
   ]
  },
  {
   "cell_type": "code",
   "execution_count": null,
   "metadata": {},
   "outputs": [],
   "source": [
    "# df_by_close_10week = df_by_close_10week.reset_index(drop=True)\n",
    "# df_by_close_40week = df_by_close_40week.reset_index(drop=True)"
   ]
  },
  {
   "cell_type": "code",
   "execution_count": null,
   "metadata": {},
   "outputs": [],
   "source": [
    "# df_by_close_10week['Adj. Close'] = df_by_close_10week['Adj. Close'] / 70\n",
    "# df_by_close_40week['Adj. Close'] = df_by_close_40week['Adj. Close'] / 280"
   ]
  },
  {
   "cell_type": "code",
   "execution_count": null,
   "metadata": {},
   "outputs": [],
   "source": [
    "# df_10week_avg = df_by_close_10week\n",
    "# df_40week_avg = df_by_close_40week"
   ]
  },
  {
   "cell_type": "code",
   "execution_count": null,
   "metadata": {},
   "outputs": [],
   "source": [
    "# df_10week_avg"
   ]
  },
  {
   "cell_type": "code",
   "execution_count": null,
   "metadata": {},
   "outputs": [],
   "source": [
    "# df_40week_avg"
   ]
  },
  {
   "cell_type": "code",
   "execution_count": null,
   "metadata": {},
   "outputs": [],
   "source": [
    "# df_7day_volume_clean"
   ]
  },
  {
   "cell_type": "code",
   "execution_count": null,
   "metadata": {},
   "outputs": [],
   "source": [
    "# df_fb_tq_2year.head()"
   ]
  },
  {
   "cell_type": "code",
   "execution_count": null,
   "metadata": {},
   "outputs": [],
   "source": []
  },
  {
   "cell_type": "code",
   "execution_count": null,
   "metadata": {},
   "outputs": [],
   "source": [
    "# df_fb_tq_2year.head(50)"
   ]
  },
  {
   "cell_type": "code",
   "execution_count": null,
   "metadata": {},
   "outputs": [],
   "source": [
    "df_fb_tq_2year.to_csv(\"df.csv\")"
   ]
  },
  {
   "cell_type": "code",
   "execution_count": null,
   "metadata": {},
   "outputs": [],
   "source": [
    "#CANDLESTICK DATA\n",
    "fig_plotly = go.Figure(data=[go.Candlestick(x=df_fb_tq_2year['Date'],\n",
    "                open=df_fb_tq_2year['Adj. Open'],\n",
    "                high=df_fb_tq_2year['Adj. High'],\n",
    "                low=df_fb_tq_2year['Adj. Low'],\n",
    "                close=df_fb_tq_2year['Adj. Close'])])\n",
    "\n",
    "# fig_plotly.show()"
   ]
  },
  {
   "cell_type": "code",
   "execution_count": null,
   "metadata": {},
   "outputs": [],
   "source": [
    "# plotly.offline.plot(fig, include_plotlyjs=False, output_type='div')"
   ]
  },
  {
   "cell_type": "code",
   "execution_count": null,
   "metadata": {},
   "outputs": [],
   "source": [
    "#MOVING AVERAGE VS CLOSING PRICE"
   ]
  },
  {
   "cell_type": "code",
   "execution_count": null,
   "metadata": {},
   "outputs": [],
   "source": [
    "# style.use('ggplot')\n",
    "# close_px.plot()\n",
    "# df_fb_tq_2year['Close_10week_mvg'].plot(label='10-week MVA')\n",
    "# df_fb_tq_2year['Close_40week_mvg'].plot(label='40-week MVA')\n",
    "\n",
    "\n",
    "# x_axis = df_7day_volume_clean['Date']\n",
    "# y_axis = df_7day_volume_clean['Volume']\n",
    "x_axis_10week = df_fb_tq_2year['Close_10week_mvg']\n",
    "x_axis_40week = df_fb_tq_2year['Close_40week_mvg']\n",
    "x_axis_close = df_fb_tq_2year['Close']\n",
    "y_axis = df_fb_tq_2year['Date']\n",
    "\n",
    "\n",
    "\n",
    "figure, ax = plt.subplots()\n",
    "ax.plot(y_axis,x_axis_10week,color='b')\n",
    "ax.plot(y_axis,x_axis_40week,color='r')\n",
    "ax.plot(y_axis,x_axis_close)\n",
    "ax.grid(color='white')\n",
    "ax.set_title(f'Closing Price and Moving Average',size = 40)\n",
    "ax.set_xlabel('Date',fontsize = 40)\n",
    "ax.set_ylabel('Closing Prices',fontsize = 40)\n",
    "ax.set_facecolor('lightblue')\n",
    "figure.set_figheight(25)\n",
    "figure.set_figwidth(80)\n",
    "ax.tick_params(axis='both', labelsize=40)\n",
    "plt.savefig(os.path.join(f'City Latitude vs Max Temperature.png'))\n",
    "plt.show()"
   ]
  },
  {
   "cell_type": "code",
   "execution_count": null,
   "metadata": {},
   "outputs": [],
   "source": [
    "# volume_px.head(10).plot.bar()\n",
    "# df_fb_tq_2year['Vol_10wk_mvg'].head(10).plot()"
   ]
  },
  {
   "cell_type": "code",
   "execution_count": null,
   "metadata": {},
   "outputs": [],
   "source": [
    "# dfreg = df.loc[:,[‘Adj Close’,’Volume’]]\n",
    "# dfreg[‘HL_PCT’] = (df[‘High’] — df[‘Low’]) / df[‘Close’] * 100.0\n",
    "# dfreg[‘PCT_change’] = (df[‘Close’] — df[‘Open’]) / df[‘Open’] * 100.0"
   ]
  },
  {
   "cell_type": "code",
   "execution_count": null,
   "metadata": {},
   "outputs": [],
   "source": [
    "# x_axis = df_7day_volume_clean['Date']\n",
    "# y_axis = df_7day_volume_clean['Volume']\n",
    "x_axis_open = df_fb_tq_2year['Open']\n",
    "x_axis_high = df_fb_tq_2year['High']\n",
    "x_axis_low = df_fb_tq_2year['Low']\n",
    "x_axis_close = df_fb_tq_2year['Close']\n",
    "y_axis = df_fb_tq_2year['Date']\n",
    "figure, ax = plt.subplots()\n",
    "ax.plot(y_axis,x_axis_open,color='b')\n",
    "ax.plot(y_axis,x_axis_high,color='r')\n",
    "ax.plot(y_axis,x_axis_low,color='g')\n",
    "ax.plot(y_axis,x_axis_close)\n",
    "ax.grid(color='white')\n",
    "ax.set_title(f'Open, High, Low, Close',size = 40)\n",
    "ax.set_xlabel('Date',fontsize = 40)\n",
    "ax.set_ylabel('Prices',fontsize = 40)\n",
    "ax.set_facecolor('lightblue')\n",
    "figure.set_figheight(25)\n",
    "figure.set_figwidth(80)\n",
    "ax.tick_params(axis='both', labelsize=40)\n",
    "#plt.savefig(os.path.join(f'City Latitude vs Max Temperature.png'))\n",
    "plt.show()"
   ]
  },
  {
   "cell_type": "code",
   "execution_count": null,
   "metadata": {},
   "outputs": [],
   "source": [
    "x_axis = df_7day_volume_clean['Date']\n",
    "y_axis = df_7day_volume_clean['Volume']\n",
    "figure, ax = plt.subplots()\n",
    "ax.bar(x_axis,y_axis,edgecolor='b')\n",
    "ax.grid(color='white')\n",
    "ax.set_ylim(0,700000000)\n",
    "ax.set_title(f'Volume vs. Weekly (2years)',size = 40)\n",
    "ax.set_xlabel('Date (Weekly)',fontsize = 40)\n",
    "ax.set_ylabel('Volume',fontsize = 40)\n",
    "ax.set_facecolor('lightblue')\n",
    "figure.set_figheight(25)\n",
    "figure.set_figwidth(80)\n",
    "ax.tick_params(axis='both', labelsize=40)\n",
    "#plt.savefig(os.path.join(f'City Latitude vs Max Temperature.png'))\n",
    "plt.show()"
   ]
  },
  {
   "cell_type": "code",
   "execution_count": null,
   "metadata": {},
   "outputs": [],
   "source": []
  },
  {
   "cell_type": "code",
   "execution_count": null,
   "metadata": {},
   "outputs": [],
   "source": []
  },
  {
   "cell_type": "code",
   "execution_count": null,
   "metadata": {},
   "outputs": [],
   "source": []
  },
  {
   "cell_type": "code",
   "execution_count": null,
   "metadata": {},
   "outputs": [],
   "source": []
  },
  {
   "cell_type": "markdown",
   "metadata": {},
   "source": [
    "# Will need to split data into the following tables to graph them.\n",
    "Volumne and Date.\n",
    "Open and Date\n",
    "High and Date\n",
    "Open minus Close\n"
   ]
  },
  {
   "cell_type": "code",
   "execution_count": null,
   "metadata": {},
   "outputs": [],
   "source": [
    "from sklearn.linear_model import LinearRegression"
   ]
  },
  {
   "cell_type": "code",
   "execution_count": null,
   "metadata": {},
   "outputs": [],
   "source": []
  },
  {
   "cell_type": "code",
   "execution_count": null,
   "metadata": {},
   "outputs": [],
   "source": [
    "connection_string = 'postgres:root123@localhost:5432/mission_spacex'\n",
    "engine = create_engine(f'postgresql://{connection_string}')"
   ]
  },
  {
   "cell_type": "code",
   "execution_count": null,
   "metadata": {},
   "outputs": [],
   "source": [
    "df1.to_sql(name='tablename1',con=engine,if_exists='replace',index=True)"
   ]
  },
  {
   "cell_type": "code",
   "execution_count": null,
   "metadata": {},
   "outputs": [],
   "source": [
    "df2.to_sql(name='tablename2', con=engine,if_exists='replace', index=False)"
   ]
  },
  {
   "cell_type": "code",
   "execution_count": null,
   "metadata": {},
   "outputs": [],
   "source": []
  },
  {
   "cell_type": "code",
   "execution_count": null,
   "metadata": {},
   "outputs": [],
   "source": []
  },
  {
   "cell_type": "code",
   "execution_count": null,
   "metadata": {},
   "outputs": [],
   "source": []
  },
  {
   "cell_type": "code",
   "execution_count": null,
   "metadata": {},
   "outputs": [],
   "source": []
  },
  {
   "cell_type": "code",
   "execution_count": null,
   "metadata": {},
   "outputs": [],
   "source": [
    "start = dt.datetime(2000,1,1)\n",
    "end = dt.datetime(2016,12,31)"
   ]
  },
  {
   "cell_type": "code",
   "execution_count": null,
   "metadata": {},
   "outputs": [],
   "source": [
    "dates = []\n",
    "prices = []"
   ]
  },
  {
   "cell_type": "code",
   "execution_count": null,
   "metadata": {},
   "outputs": [],
   "source": [
    "def get_data(filename):\n",
    "    with open(filename, 'r') as csvfile:\n",
    "        csvFileReader = csv.reader(csvfile)\n",
    "        next(csvFileReader)\n",
    "        for row in csvFileReader:\n",
    "            dates.append(int(row[0].split('-')[0]))\n",
    "            prices.append(float(row[1]))\n",
    "    return"
   ]
  },
  {
   "cell_type": "code",
   "execution_count": null,
   "metadata": {},
   "outputs": [],
   "source": [
    "def predict_prices(dates,prices,x):\n",
    "    "
   ]
  }
 ],
 "metadata": {
  "kernelspec": {
   "display_name": "Python 3",
   "language": "python",
   "name": "python3"
  },
  "language_info": {
   "codemirror_mode": {
    "name": "ipython",
    "version": 3
   },
   "file_extension": ".py",
   "mimetype": "text/x-python",
   "name": "python",
   "nbconvert_exporter": "python",
   "pygments_lexer": "ipython3",
   "version": "3.7.3"
  }
 },
 "nbformat": 4,
 "nbformat_minor": 2
}
