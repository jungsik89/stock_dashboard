{
 "cells": [
  {
   "cell_type": "code",
   "execution_count": 28,
   "metadata": {},
   "outputs": [
    {
     "name": "stderr",
     "output_type": "stream",
     "text": [
      "C:\\Users\\angie\\Anaconda3\\lib\\site-packages\\pandas_datareader\\compat\\__init__.py:7: FutureWarning: pandas.util.testing is deprecated. Use the functions in the public API at pandas.testing instead.\n",
      "  from pandas.util.testing import assert_frame_equal\n"
     ]
    }
   ],
   "source": [
    "import datetime as dt \n",
    "from datetime import date\n",
    "import matplotlib.pyplot as plt\n",
    "from matplotlib import style\n",
    "import pandas as pd\n",
    "import quandl\n",
    "import pandas_datareader as web\n",
    "import numpy as np\n",
    "from config import quandl_apikey\n",
    "import requests"
   ]
  },
  {
   "cell_type": "code",
   "execution_count": 1,
   "metadata": {},
   "outputs": [],
   "source": [
    "#enter the stock to query\n",
    "query_stock = \"GOOGL\"\n",
    "#quandl.ApiConfig.api_key = quandl_apikey"
   ]
  },
  {
   "cell_type": "code",
   "execution_count": 2,
   "metadata": {},
   "outputs": [],
   "source": [
    "#api_url = f\"https://www.quandl.com/api/v3/datasets/EOD/{query_stock}.csv?api_key={quandl_apikey}\""
   ]
  },
  {
   "cell_type": "code",
   "execution_count": 3,
   "metadata": {},
   "outputs": [],
   "source": [
    "#url = \"https://www.quandl.com/api/v3/datasets/WIKI/AAPL.csv\""
   ]
  },
  {
   "cell_type": "code",
   "execution_count": 4,
   "metadata": {},
   "outputs": [],
   "source": [
    "#request_1 = requests.get(url)"
   ]
  },
  {
   "cell_type": "markdown",
   "metadata": {},
   "source": [
    "# PARAMETER: for filtering \n",
    "#qopts.columns\n",
    "#Request data from specific columns by passing the qopts.columns parameter. If you want to query for multiple columns, include #the column names separated by a comma.\n",
    "\n",
    "#FILTERS:\n",
    "#.gte=\n",
    "\n",
    "#Modifies the parameter to return values greater than or equal to the requested value\n",
    "#.lte=\n",
    "#Modifies the parameter to return values less than or equal to the requested value"
   ]
  },
  {
   "cell_type": "code",
   "execution_count": 5,
   "metadata": {},
   "outputs": [],
   "source": [
    "#“WIKI/PRICES”\n",
    "##WIKI IS END OF DAY US STOCK PRICES\n"
   ]
  },
  {
   "cell_type": "code",
   "execution_count": 6,
   "metadata": {},
   "outputs": [],
   "source": [
    "# get the table for daily stock prices and,\n",
    "# filter the table for selected tickers, columns within a time range\n",
    "# set paginate to True because Quandl limits tables API to 10,000 rows per call\n",
    "\n",
    "# data = quandl.get_table('WIKI/PRICES', ticker = ['AAPL', 'MSFT', 'WMT'], \n",
    "#                     qopts = { 'columns': ['ticker', 'date', 'adj_close'] }, \n",
    "#                     date = { 'gte': '2015-12-31', 'lte': '2016-12-31' }, \n",
    "#                     paginate=True)\n",
    "#data"
   ]
  },
  {
   "cell_type": "code",
   "execution_count": 7,
   "metadata": {},
   "outputs": [],
   "source": [
    "#data.info()"
   ]
  },
  {
   "cell_type": "code",
   "execution_count": 8,
   "metadata": {},
   "outputs": [],
   "source": [
    "#data.describe()"
   ]
  },
  {
   "cell_type": "code",
   "execution_count": 9,
   "metadata": {},
   "outputs": [],
   "source": [
    "# create a new dataframe with 'date' column as index\n",
    "#new = data.set_index('date')\n",
    "\n",
    "# use pandas pivot function to sort adj_close by tickers\n",
    "#clean_data = new.pivot(columns='ticker')\n",
    "\n",
    "# check the head of the output\n",
    "#clean_data.head()"
   ]
  },
  {
   "cell_type": "code",
   "execution_count": 10,
   "metadata": {},
   "outputs": [],
   "source": [
    "#clean_data.tail()"
   ]
  },
  {
   "cell_type": "code",
   "execution_count": 11,
   "metadata": {},
   "outputs": [],
   "source": [
    "#clean_data.index"
   ]
  },
  {
   "cell_type": "code",
   "execution_count": null,
   "metadata": {},
   "outputs": [],
   "source": []
  },
  {
   "cell_type": "code",
   "execution_count": 12,
   "metadata": {},
   "outputs": [],
   "source": [
    "\n",
    "\n",
    "#plt.plot(clean_data.index, clean_data['adj_close']['AAPL'])\n",
    "#plt.plot(clean_data.index, clean_data['adj_close']['MSFT'])\n"
   ]
  },
  {
   "cell_type": "code",
   "execution_count": 13,
   "metadata": {},
   "outputs": [],
   "source": [
    "#plt.bar(clean_data.index, clean_data['adj_close']['WMT'])"
   ]
  },
  {
   "cell_type": "code",
   "execution_count": null,
   "metadata": {},
   "outputs": [],
   "source": []
  },
  {
   "cell_type": "code",
   "execution_count": 14,
   "metadata": {},
   "outputs": [],
   "source": [
    "\n",
    "#data_tsx = quandl.get_table('TSX/', ticker = ['AAPL', 'MSFT', 'WMT'], \n",
    "                 #       qopts = { 'columns': ['ticker', 'date', 'adj_close'] }, \n",
    "                  #      date = { 'gte': '2015-12-31', 'lte': '2016-12-31' }, \n",
    "                   #     paginate=True)\n",
    "#data_tsx"
   ]
  },
  {
   "cell_type": "code",
   "execution_count": 15,
   "metadata": {},
   "outputs": [],
   "source": [
    "#data_query = quandl.get(\"EIA/PET_RWTC_D\")"
   ]
  },
  {
   "cell_type": "code",
   "execution_count": 16,
   "metadata": {},
   "outputs": [],
   "source": [
    "#plt.plot(data_query.index, data_query['Value'])"
   ]
  },
  {
   "cell_type": "code",
   "execution_count": 17,
   "metadata": {},
   "outputs": [],
   "source": [
    "#tabledata\n",
    "#do not need\n",
    "#data = quandl.get_table('ZACKS/FC', paginate=True)"
   ]
  },
  {
   "cell_type": "code",
   "execution_count": 18,
   "metadata": {},
   "outputs": [],
   "source": [
    "#Getting forbidden error. \n",
    "#quandl.bulkdownload(\"AAPL\")"
   ]
  },
  {
   "cell_type": "code",
   "execution_count": 29,
   "metadata": {},
   "outputs": [],
   "source": [
    "target_stock = 'FB'"
   ]
  },
  {
   "cell_type": "code",
   "execution_count": 30,
   "metadata": {},
   "outputs": [],
   "source": [
    "time_api = f\"https://www.quandl.com/api/v3/datasets/WIKI/{target_stock}/data.json?api_key={quandl_apikey}\""
   ]
  },
  {
   "cell_type": "code",
   "execution_count": 31,
   "metadata": {},
   "outputs": [],
   "source": [
    "time_query_FB = requests.get(time_api)"
   ]
  },
  {
   "cell_type": "code",
   "execution_count": 32,
   "metadata": {},
   "outputs": [],
   "source": [
    "tq_fb_json = time_query_FB.json()"
   ]
  },
  {
   "cell_type": "code",
   "execution_count": 33,
   "metadata": {},
   "outputs": [],
   "source": [
    "df_fb_tq = pd.DataFrame(tq_fb_json['dataset_data']['data'],columns= tq_fb_json['dataset_data']['column_names'])"
   ]
  },
  {
   "cell_type": "code",
   "execution_count": 34,
   "metadata": {},
   "outputs": [],
   "source": [
    "df_fb_tq['Ticker'] = target_stock"
   ]
  },
  {
   "cell_type": "code",
   "execution_count": 35,
   "metadata": {},
   "outputs": [],
   "source": [
    "df_fb_tq['Open_Close_Diff'] = df_fb_tq['Adj. Open'] - df_fb_tq['Adj. Close']"
   ]
  },
  {
   "cell_type": "code",
   "execution_count": 36,
   "metadata": {},
   "outputs": [
    {
     "data": {
      "text/html": [
       "<div>\n",
       "<style scoped>\n",
       "    .dataframe tbody tr th:only-of-type {\n",
       "        vertical-align: middle;\n",
       "    }\n",
       "\n",
       "    .dataframe tbody tr th {\n",
       "        vertical-align: top;\n",
       "    }\n",
       "\n",
       "    .dataframe thead th {\n",
       "        text-align: right;\n",
       "    }\n",
       "</style>\n",
       "<table border=\"1\" class=\"dataframe\">\n",
       "  <thead>\n",
       "    <tr style=\"text-align: right;\">\n",
       "      <th></th>\n",
       "      <th>Date</th>\n",
       "      <th>Open</th>\n",
       "      <th>High</th>\n",
       "      <th>Low</th>\n",
       "      <th>Close</th>\n",
       "      <th>Volume</th>\n",
       "      <th>Ex-Dividend</th>\n",
       "      <th>Split Ratio</th>\n",
       "      <th>Adj. Open</th>\n",
       "      <th>Adj. High</th>\n",
       "      <th>Adj. Low</th>\n",
       "      <th>Adj. Close</th>\n",
       "      <th>Adj. Volume</th>\n",
       "      <th>Ticker</th>\n",
       "      <th>Open_Close_Diff</th>\n",
       "    </tr>\n",
       "  </thead>\n",
       "  <tbody>\n",
       "    <tr>\n",
       "      <th>0</th>\n",
       "      <td>2018-03-27</td>\n",
       "      <td>156.31</td>\n",
       "      <td>162.85</td>\n",
       "      <td>150.75</td>\n",
       "      <td>152.1900</td>\n",
       "      <td>76787884.0</td>\n",
       "      <td>0.0</td>\n",
       "      <td>1.0</td>\n",
       "      <td>156.31</td>\n",
       "      <td>162.85</td>\n",
       "      <td>150.75</td>\n",
       "      <td>152.1900</td>\n",
       "      <td>76787884.0</td>\n",
       "      <td>FB</td>\n",
       "      <td>4.1200</td>\n",
       "    </tr>\n",
       "    <tr>\n",
       "      <th>1</th>\n",
       "      <td>2018-03-26</td>\n",
       "      <td>160.82</td>\n",
       "      <td>161.10</td>\n",
       "      <td>149.02</td>\n",
       "      <td>160.0600</td>\n",
       "      <td>125438294.0</td>\n",
       "      <td>0.0</td>\n",
       "      <td>1.0</td>\n",
       "      <td>160.82</td>\n",
       "      <td>161.10</td>\n",
       "      <td>149.02</td>\n",
       "      <td>160.0600</td>\n",
       "      <td>125438294.0</td>\n",
       "      <td>FB</td>\n",
       "      <td>0.7600</td>\n",
       "    </tr>\n",
       "    <tr>\n",
       "      <th>2</th>\n",
       "      <td>2018-03-23</td>\n",
       "      <td>165.44</td>\n",
       "      <td>167.10</td>\n",
       "      <td>159.02</td>\n",
       "      <td>159.3900</td>\n",
       "      <td>52306891.0</td>\n",
       "      <td>0.0</td>\n",
       "      <td>1.0</td>\n",
       "      <td>165.44</td>\n",
       "      <td>167.10</td>\n",
       "      <td>159.02</td>\n",
       "      <td>159.3900</td>\n",
       "      <td>52306891.0</td>\n",
       "      <td>FB</td>\n",
       "      <td>6.0500</td>\n",
       "    </tr>\n",
       "    <tr>\n",
       "      <th>3</th>\n",
       "      <td>2018-03-22</td>\n",
       "      <td>166.13</td>\n",
       "      <td>170.27</td>\n",
       "      <td>163.72</td>\n",
       "      <td>164.8900</td>\n",
       "      <td>73389988.0</td>\n",
       "      <td>0.0</td>\n",
       "      <td>1.0</td>\n",
       "      <td>166.13</td>\n",
       "      <td>170.27</td>\n",
       "      <td>163.72</td>\n",
       "      <td>164.8900</td>\n",
       "      <td>73389988.0</td>\n",
       "      <td>FB</td>\n",
       "      <td>1.2400</td>\n",
       "    </tr>\n",
       "    <tr>\n",
       "      <th>4</th>\n",
       "      <td>2018-03-21</td>\n",
       "      <td>164.80</td>\n",
       "      <td>173.40</td>\n",
       "      <td>163.30</td>\n",
       "      <td>169.3900</td>\n",
       "      <td>105350867.0</td>\n",
       "      <td>0.0</td>\n",
       "      <td>1.0</td>\n",
       "      <td>164.80</td>\n",
       "      <td>173.40</td>\n",
       "      <td>163.30</td>\n",
       "      <td>169.3900</td>\n",
       "      <td>105350867.0</td>\n",
       "      <td>FB</td>\n",
       "      <td>-4.5900</td>\n",
       "    </tr>\n",
       "    <tr>\n",
       "      <th>...</th>\n",
       "      <td>...</td>\n",
       "      <td>...</td>\n",
       "      <td>...</td>\n",
       "      <td>...</td>\n",
       "      <td>...</td>\n",
       "      <td>...</td>\n",
       "      <td>...</td>\n",
       "      <td>...</td>\n",
       "      <td>...</td>\n",
       "      <td>...</td>\n",
       "      <td>...</td>\n",
       "      <td>...</td>\n",
       "      <td>...</td>\n",
       "      <td>...</td>\n",
       "      <td>...</td>\n",
       "    </tr>\n",
       "    <tr>\n",
       "      <th>1467</th>\n",
       "      <td>2012-05-24</td>\n",
       "      <td>32.95</td>\n",
       "      <td>33.21</td>\n",
       "      <td>31.77</td>\n",
       "      <td>33.0300</td>\n",
       "      <td>50237200.0</td>\n",
       "      <td>0.0</td>\n",
       "      <td>1.0</td>\n",
       "      <td>32.95</td>\n",
       "      <td>33.21</td>\n",
       "      <td>31.77</td>\n",
       "      <td>33.0300</td>\n",
       "      <td>50237200.0</td>\n",
       "      <td>FB</td>\n",
       "      <td>-0.0800</td>\n",
       "    </tr>\n",
       "    <tr>\n",
       "      <th>1468</th>\n",
       "      <td>2012-05-23</td>\n",
       "      <td>31.37</td>\n",
       "      <td>32.50</td>\n",
       "      <td>31.36</td>\n",
       "      <td>32.0000</td>\n",
       "      <td>73600000.0</td>\n",
       "      <td>0.0</td>\n",
       "      <td>1.0</td>\n",
       "      <td>31.37</td>\n",
       "      <td>32.50</td>\n",
       "      <td>31.36</td>\n",
       "      <td>32.0000</td>\n",
       "      <td>73600000.0</td>\n",
       "      <td>FB</td>\n",
       "      <td>-0.6300</td>\n",
       "    </tr>\n",
       "    <tr>\n",
       "      <th>1469</th>\n",
       "      <td>2012-05-22</td>\n",
       "      <td>32.61</td>\n",
       "      <td>33.59</td>\n",
       "      <td>30.94</td>\n",
       "      <td>31.0000</td>\n",
       "      <td>101786600.0</td>\n",
       "      <td>0.0</td>\n",
       "      <td>1.0</td>\n",
       "      <td>32.61</td>\n",
       "      <td>33.59</td>\n",
       "      <td>30.94</td>\n",
       "      <td>31.0000</td>\n",
       "      <td>101786600.0</td>\n",
       "      <td>FB</td>\n",
       "      <td>1.6100</td>\n",
       "    </tr>\n",
       "    <tr>\n",
       "      <th>1470</th>\n",
       "      <td>2012-05-21</td>\n",
       "      <td>36.53</td>\n",
       "      <td>36.66</td>\n",
       "      <td>33.00</td>\n",
       "      <td>34.0300</td>\n",
       "      <td>168192700.0</td>\n",
       "      <td>0.0</td>\n",
       "      <td>1.0</td>\n",
       "      <td>36.53</td>\n",
       "      <td>36.66</td>\n",
       "      <td>33.00</td>\n",
       "      <td>34.0300</td>\n",
       "      <td>168192700.0</td>\n",
       "      <td>FB</td>\n",
       "      <td>2.5000</td>\n",
       "    </tr>\n",
       "    <tr>\n",
       "      <th>1471</th>\n",
       "      <td>2012-05-18</td>\n",
       "      <td>42.05</td>\n",
       "      <td>45.00</td>\n",
       "      <td>38.00</td>\n",
       "      <td>38.2318</td>\n",
       "      <td>573576400.0</td>\n",
       "      <td>0.0</td>\n",
       "      <td>1.0</td>\n",
       "      <td>42.05</td>\n",
       "      <td>45.00</td>\n",
       "      <td>38.00</td>\n",
       "      <td>38.2318</td>\n",
       "      <td>573576400.0</td>\n",
       "      <td>FB</td>\n",
       "      <td>3.8182</td>\n",
       "    </tr>\n",
       "  </tbody>\n",
       "</table>\n",
       "<p>1472 rows × 15 columns</p>\n",
       "</div>"
      ],
      "text/plain": [
       "            Date    Open    High     Low     Close       Volume  Ex-Dividend  \\\n",
       "0     2018-03-27  156.31  162.85  150.75  152.1900   76787884.0          0.0   \n",
       "1     2018-03-26  160.82  161.10  149.02  160.0600  125438294.0          0.0   \n",
       "2     2018-03-23  165.44  167.10  159.02  159.3900   52306891.0          0.0   \n",
       "3     2018-03-22  166.13  170.27  163.72  164.8900   73389988.0          0.0   \n",
       "4     2018-03-21  164.80  173.40  163.30  169.3900  105350867.0          0.0   \n",
       "...          ...     ...     ...     ...       ...          ...          ...   \n",
       "1467  2012-05-24   32.95   33.21   31.77   33.0300   50237200.0          0.0   \n",
       "1468  2012-05-23   31.37   32.50   31.36   32.0000   73600000.0          0.0   \n",
       "1469  2012-05-22   32.61   33.59   30.94   31.0000  101786600.0          0.0   \n",
       "1470  2012-05-21   36.53   36.66   33.00   34.0300  168192700.0          0.0   \n",
       "1471  2012-05-18   42.05   45.00   38.00   38.2318  573576400.0          0.0   \n",
       "\n",
       "      Split Ratio  Adj. Open  Adj. High  Adj. Low  Adj. Close  Adj. Volume  \\\n",
       "0             1.0     156.31     162.85    150.75    152.1900   76787884.0   \n",
       "1             1.0     160.82     161.10    149.02    160.0600  125438294.0   \n",
       "2             1.0     165.44     167.10    159.02    159.3900   52306891.0   \n",
       "3             1.0     166.13     170.27    163.72    164.8900   73389988.0   \n",
       "4             1.0     164.80     173.40    163.30    169.3900  105350867.0   \n",
       "...           ...        ...        ...       ...         ...          ...   \n",
       "1467          1.0      32.95      33.21     31.77     33.0300   50237200.0   \n",
       "1468          1.0      31.37      32.50     31.36     32.0000   73600000.0   \n",
       "1469          1.0      32.61      33.59     30.94     31.0000  101786600.0   \n",
       "1470          1.0      36.53      36.66     33.00     34.0300  168192700.0   \n",
       "1471          1.0      42.05      45.00     38.00     38.2318  573576400.0   \n",
       "\n",
       "     Ticker  Open_Close_Diff  \n",
       "0        FB           4.1200  \n",
       "1        FB           0.7600  \n",
       "2        FB           6.0500  \n",
       "3        FB           1.2400  \n",
       "4        FB          -4.5900  \n",
       "...     ...              ...  \n",
       "1467     FB          -0.0800  \n",
       "1468     FB          -0.6300  \n",
       "1469     FB           1.6100  \n",
       "1470     FB           2.5000  \n",
       "1471     FB           3.8182  \n",
       "\n",
       "[1472 rows x 15 columns]"
      ]
     },
     "execution_count": 36,
     "metadata": {},
     "output_type": "execute_result"
    }
   ],
   "source": [
    "df_fb_tq"
   ]
  },
  {
   "cell_type": "code",
   "execution_count": 37,
   "metadata": {},
   "outputs": [
    {
     "data": {
      "text/plain": [
       "Index(['Date', 'Open', 'High', 'Low', 'Close', 'Volume', 'Ex-Dividend',\n",
       "       'Split Ratio', 'Adj. Open', 'Adj. High', 'Adj. Low', 'Adj. Close',\n",
       "       'Adj. Volume', 'Ticker', 'Open_Close_Diff'],\n",
       "      dtype='object')"
      ]
     },
     "execution_count": 37,
     "metadata": {},
     "output_type": "execute_result"
    }
   ],
   "source": [
    "df_fb_tq.columns"
   ]
  },
  {
   "cell_type": "code",
   "execution_count": 38,
   "metadata": {},
   "outputs": [],
   "source": [
    "#before transfomration the dtype is object. \n",
    "df_fb_tq['Date'] = pd.to_datetime(df_fb_tq['Date'])"
   ]
  },
  {
   "cell_type": "code",
   "execution_count": 39,
   "metadata": {},
   "outputs": [],
   "source": [
    "df_fb_tq = df_fb_tq.set_index(df_fb_tq['Date'],drop=True)"
   ]
  },
  {
   "cell_type": "code",
   "execution_count": 40,
   "metadata": {},
   "outputs": [],
   "source": [
    "#today = date.today()"
   ]
  },
  {
   "cell_type": "code",
   "execution_count": 41,
   "metadata": {},
   "outputs": [],
   "source": [
    "last_day = df_fb_tq.index[0]"
   ]
  },
  {
   "cell_type": "code",
   "execution_count": 42,
   "metadata": {},
   "outputs": [],
   "source": [
    "years = 2\n",
    "days_per_year = 365.24\n",
    "after_date = last_day dt.timedelta(days=(years*days_per_year))"
   ]
  },
  {
   "cell_type": "code",
   "execution_count": 43,
   "metadata": {},
   "outputs": [],
   "source": [
    "#targets index. do not need to specify\n",
    "df_fb_tq_2year = df_fb_tq.truncate(after = after_date)"
   ]
  },
  {
   "cell_type": "code",
   "execution_count": 44,
   "metadata": {},
   "outputs": [
    {
     "data": {
      "text/html": [
       "<div>\n",
       "<style scoped>\n",
       "    .dataframe tbody tr th:only-of-type {\n",
       "        vertical-align: middle;\n",
       "    }\n",
       "\n",
       "    .dataframe tbody tr th {\n",
       "        vertical-align: top;\n",
       "    }\n",
       "\n",
       "    .dataframe thead th {\n",
       "        text-align: right;\n",
       "    }\n",
       "</style>\n",
       "<table border=\"1\" class=\"dataframe\">\n",
       "  <thead>\n",
       "    <tr style=\"text-align: right;\">\n",
       "      <th></th>\n",
       "      <th>Date</th>\n",
       "      <th>Open</th>\n",
       "      <th>High</th>\n",
       "      <th>Low</th>\n",
       "      <th>Close</th>\n",
       "      <th>Volume</th>\n",
       "      <th>Ex-Dividend</th>\n",
       "      <th>Split Ratio</th>\n",
       "      <th>Adj. Open</th>\n",
       "      <th>Adj. High</th>\n",
       "      <th>Adj. Low</th>\n",
       "      <th>Adj. Close</th>\n",
       "      <th>Adj. Volume</th>\n",
       "      <th>Ticker</th>\n",
       "      <th>Open_Close_Diff</th>\n",
       "    </tr>\n",
       "    <tr>\n",
       "      <th>Date</th>\n",
       "      <th></th>\n",
       "      <th></th>\n",
       "      <th></th>\n",
       "      <th></th>\n",
       "      <th></th>\n",
       "      <th></th>\n",
       "      <th></th>\n",
       "      <th></th>\n",
       "      <th></th>\n",
       "      <th></th>\n",
       "      <th></th>\n",
       "      <th></th>\n",
       "      <th></th>\n",
       "      <th></th>\n",
       "      <th></th>\n",
       "    </tr>\n",
       "  </thead>\n",
       "  <tbody>\n",
       "    <tr>\n",
       "      <th>2018-03-27</th>\n",
       "      <td>2018-03-27</td>\n",
       "      <td>156.31</td>\n",
       "      <td>162.8500</td>\n",
       "      <td>150.7500</td>\n",
       "      <td>152.19</td>\n",
       "      <td>76787884.0</td>\n",
       "      <td>0.0</td>\n",
       "      <td>1.0</td>\n",
       "      <td>156.31</td>\n",
       "      <td>162.8500</td>\n",
       "      <td>150.7500</td>\n",
       "      <td>152.19</td>\n",
       "      <td>76787884.0</td>\n",
       "      <td>FB</td>\n",
       "      <td>4.12</td>\n",
       "    </tr>\n",
       "    <tr>\n",
       "      <th>2018-03-26</th>\n",
       "      <td>2018-03-26</td>\n",
       "      <td>160.82</td>\n",
       "      <td>161.1000</td>\n",
       "      <td>149.0200</td>\n",
       "      <td>160.06</td>\n",
       "      <td>125438294.0</td>\n",
       "      <td>0.0</td>\n",
       "      <td>1.0</td>\n",
       "      <td>160.82</td>\n",
       "      <td>161.1000</td>\n",
       "      <td>149.0200</td>\n",
       "      <td>160.06</td>\n",
       "      <td>125438294.0</td>\n",
       "      <td>FB</td>\n",
       "      <td>0.76</td>\n",
       "    </tr>\n",
       "    <tr>\n",
       "      <th>2018-03-23</th>\n",
       "      <td>2018-03-23</td>\n",
       "      <td>165.44</td>\n",
       "      <td>167.1000</td>\n",
       "      <td>159.0200</td>\n",
       "      <td>159.39</td>\n",
       "      <td>52306891.0</td>\n",
       "      <td>0.0</td>\n",
       "      <td>1.0</td>\n",
       "      <td>165.44</td>\n",
       "      <td>167.1000</td>\n",
       "      <td>159.0200</td>\n",
       "      <td>159.39</td>\n",
       "      <td>52306891.0</td>\n",
       "      <td>FB</td>\n",
       "      <td>6.05</td>\n",
       "    </tr>\n",
       "    <tr>\n",
       "      <th>2018-03-22</th>\n",
       "      <td>2018-03-22</td>\n",
       "      <td>166.13</td>\n",
       "      <td>170.2700</td>\n",
       "      <td>163.7200</td>\n",
       "      <td>164.89</td>\n",
       "      <td>73389988.0</td>\n",
       "      <td>0.0</td>\n",
       "      <td>1.0</td>\n",
       "      <td>166.13</td>\n",
       "      <td>170.2700</td>\n",
       "      <td>163.7200</td>\n",
       "      <td>164.89</td>\n",
       "      <td>73389988.0</td>\n",
       "      <td>FB</td>\n",
       "      <td>1.24</td>\n",
       "    </tr>\n",
       "    <tr>\n",
       "      <th>2018-03-21</th>\n",
       "      <td>2018-03-21</td>\n",
       "      <td>164.80</td>\n",
       "      <td>173.4000</td>\n",
       "      <td>163.3000</td>\n",
       "      <td>169.39</td>\n",
       "      <td>105350867.0</td>\n",
       "      <td>0.0</td>\n",
       "      <td>1.0</td>\n",
       "      <td>164.80</td>\n",
       "      <td>173.4000</td>\n",
       "      <td>163.3000</td>\n",
       "      <td>169.39</td>\n",
       "      <td>105350867.0</td>\n",
       "      <td>FB</td>\n",
       "      <td>-4.59</td>\n",
       "    </tr>\n",
       "    <tr>\n",
       "      <th>...</th>\n",
       "      <td>...</td>\n",
       "      <td>...</td>\n",
       "      <td>...</td>\n",
       "      <td>...</td>\n",
       "      <td>...</td>\n",
       "      <td>...</td>\n",
       "      <td>...</td>\n",
       "      <td>...</td>\n",
       "      <td>...</td>\n",
       "      <td>...</td>\n",
       "      <td>...</td>\n",
       "      <td>...</td>\n",
       "      <td>...</td>\n",
       "      <td>...</td>\n",
       "      <td>...</td>\n",
       "    </tr>\n",
       "    <tr>\n",
       "      <th>2016-04-01</th>\n",
       "      <td>2016-04-01</td>\n",
       "      <td>113.75</td>\n",
       "      <td>116.1700</td>\n",
       "      <td>113.3500</td>\n",
       "      <td>116.06</td>\n",
       "      <td>24760504.0</td>\n",
       "      <td>0.0</td>\n",
       "      <td>1.0</td>\n",
       "      <td>113.75</td>\n",
       "      <td>116.1700</td>\n",
       "      <td>113.3500</td>\n",
       "      <td>116.06</td>\n",
       "      <td>24760504.0</td>\n",
       "      <td>FB</td>\n",
       "      <td>-2.31</td>\n",
       "    </tr>\n",
       "    <tr>\n",
       "      <th>2016-03-31</th>\n",
       "      <td>2016-03-31</td>\n",
       "      <td>114.70</td>\n",
       "      <td>115.0100</td>\n",
       "      <td>113.7682</td>\n",
       "      <td>114.10</td>\n",
       "      <td>21207526.0</td>\n",
       "      <td>0.0</td>\n",
       "      <td>1.0</td>\n",
       "      <td>114.70</td>\n",
       "      <td>115.0100</td>\n",
       "      <td>113.7682</td>\n",
       "      <td>114.10</td>\n",
       "      <td>21207526.0</td>\n",
       "      <td>FB</td>\n",
       "      <td>0.60</td>\n",
       "    </tr>\n",
       "    <tr>\n",
       "      <th>2016-03-30</th>\n",
       "      <td>2016-03-30</td>\n",
       "      <td>116.73</td>\n",
       "      <td>116.9900</td>\n",
       "      <td>114.3550</td>\n",
       "      <td>114.70</td>\n",
       "      <td>33235184.0</td>\n",
       "      <td>0.0</td>\n",
       "      <td>1.0</td>\n",
       "      <td>116.73</td>\n",
       "      <td>116.9900</td>\n",
       "      <td>114.3550</td>\n",
       "      <td>114.70</td>\n",
       "      <td>33235184.0</td>\n",
       "      <td>FB</td>\n",
       "      <td>2.03</td>\n",
       "    </tr>\n",
       "    <tr>\n",
       "      <th>2016-03-29</th>\n",
       "      <td>2016-03-29</td>\n",
       "      <td>113.83</td>\n",
       "      <td>116.3200</td>\n",
       "      <td>113.6400</td>\n",
       "      <td>116.14</td>\n",
       "      <td>29825340.0</td>\n",
       "      <td>0.0</td>\n",
       "      <td>1.0</td>\n",
       "      <td>113.83</td>\n",
       "      <td>116.3200</td>\n",
       "      <td>113.6400</td>\n",
       "      <td>116.14</td>\n",
       "      <td>29825340.0</td>\n",
       "      <td>FB</td>\n",
       "      <td>-2.31</td>\n",
       "    </tr>\n",
       "    <tr>\n",
       "      <th>2016-03-28</th>\n",
       "      <td>2016-03-28</td>\n",
       "      <td>113.32</td>\n",
       "      <td>114.5889</td>\n",
       "      <td>112.9500</td>\n",
       "      <td>113.69</td>\n",
       "      <td>21351751.0</td>\n",
       "      <td>0.0</td>\n",
       "      <td>1.0</td>\n",
       "      <td>113.32</td>\n",
       "      <td>114.5889</td>\n",
       "      <td>112.9500</td>\n",
       "      <td>113.69</td>\n",
       "      <td>21351751.0</td>\n",
       "      <td>FB</td>\n",
       "      <td>-0.37</td>\n",
       "    </tr>\n",
       "  </tbody>\n",
       "</table>\n",
       "<p>504 rows × 15 columns</p>\n",
       "</div>"
      ],
      "text/plain": [
       "                 Date    Open      High       Low   Close       Volume  \\\n",
       "Date                                                                     \n",
       "2018-03-27 2018-03-27  156.31  162.8500  150.7500  152.19   76787884.0   \n",
       "2018-03-26 2018-03-26  160.82  161.1000  149.0200  160.06  125438294.0   \n",
       "2018-03-23 2018-03-23  165.44  167.1000  159.0200  159.39   52306891.0   \n",
       "2018-03-22 2018-03-22  166.13  170.2700  163.7200  164.89   73389988.0   \n",
       "2018-03-21 2018-03-21  164.80  173.4000  163.3000  169.39  105350867.0   \n",
       "...               ...     ...       ...       ...     ...          ...   \n",
       "2016-04-01 2016-04-01  113.75  116.1700  113.3500  116.06   24760504.0   \n",
       "2016-03-31 2016-03-31  114.70  115.0100  113.7682  114.10   21207526.0   \n",
       "2016-03-30 2016-03-30  116.73  116.9900  114.3550  114.70   33235184.0   \n",
       "2016-03-29 2016-03-29  113.83  116.3200  113.6400  116.14   29825340.0   \n",
       "2016-03-28 2016-03-28  113.32  114.5889  112.9500  113.69   21351751.0   \n",
       "\n",
       "            Ex-Dividend  Split Ratio  Adj. Open  Adj. High  Adj. Low  \\\n",
       "Date                                                                   \n",
       "2018-03-27          0.0          1.0     156.31   162.8500  150.7500   \n",
       "2018-03-26          0.0          1.0     160.82   161.1000  149.0200   \n",
       "2018-03-23          0.0          1.0     165.44   167.1000  159.0200   \n",
       "2018-03-22          0.0          1.0     166.13   170.2700  163.7200   \n",
       "2018-03-21          0.0          1.0     164.80   173.4000  163.3000   \n",
       "...                 ...          ...        ...        ...       ...   \n",
       "2016-04-01          0.0          1.0     113.75   116.1700  113.3500   \n",
       "2016-03-31          0.0          1.0     114.70   115.0100  113.7682   \n",
       "2016-03-30          0.0          1.0     116.73   116.9900  114.3550   \n",
       "2016-03-29          0.0          1.0     113.83   116.3200  113.6400   \n",
       "2016-03-28          0.0          1.0     113.32   114.5889  112.9500   \n",
       "\n",
       "            Adj. Close  Adj. Volume Ticker  Open_Close_Diff  \n",
       "Date                                                         \n",
       "2018-03-27      152.19   76787884.0     FB             4.12  \n",
       "2018-03-26      160.06  125438294.0     FB             0.76  \n",
       "2018-03-23      159.39   52306891.0     FB             6.05  \n",
       "2018-03-22      164.89   73389988.0     FB             1.24  \n",
       "2018-03-21      169.39  105350867.0     FB            -4.59  \n",
       "...                ...          ...    ...              ...  \n",
       "2016-04-01      116.06   24760504.0     FB            -2.31  \n",
       "2016-03-31      114.10   21207526.0     FB             0.60  \n",
       "2016-03-30      114.70   33235184.0     FB             2.03  \n",
       "2016-03-29      116.14   29825340.0     FB            -2.31  \n",
       "2016-03-28      113.69   21351751.0     FB            -0.37  \n",
       "\n",
       "[504 rows x 15 columns]"
      ]
     },
     "execution_count": 44,
     "metadata": {},
     "output_type": "execute_result"
    }
   ],
   "source": [
    "df_fb_tq_2year"
   ]
  },
  {
   "cell_type": "code",
   "execution_count": 132,
   "metadata": {},
   "outputs": [
    {
     "name": "stdout",
     "output_type": "stream",
     "text": [
      "0\n",
      "2\n",
      "4\n",
      "6\n",
      "8\n",
      "10\n",
      "12\n",
      "14\n",
      "16\n",
      "18\n"
     ]
    },
    {
     "data": {
      "text/plain": [
       "1.8"
      ]
     },
     "execution_count": 132,
     "metadata": {},
     "output_type": "execute_result"
    }
   ],
   "source": [
    "def SMA(x):\n",
    "    for x in range(10):\n",
    "        x = x + x\n",
    "        print(x)\n",
    "    x = x / 10\n",
    "    return x\n",
    "\n",
    "SMA([1,2,3,4,5,6,7,8,9,10])"
   ]
  },
  {
   "cell_type": "code",
   "execution_count": 127,
   "metadata": {},
   "outputs": [
    {
     "data": {
      "text/plain": [
       "Date\n",
       "2018-03-27     76787884.0\n",
       "2018-03-26    125438294.0\n",
       "2018-03-23     52306891.0\n",
       "2018-03-22     73389988.0\n",
       "2018-03-21    105350867.0\n",
       "2018-03-20    128925534.0\n",
       "2018-03-19     86897749.0\n",
       "2018-03-16     23090480.0\n",
       "2018-03-15     15461869.0\n",
       "2018-03-14     16426843.0\n",
       "Name: Adj. Volume, dtype: float64"
      ]
     },
     "execution_count": 127,
     "metadata": {},
     "output_type": "execute_result"
    }
   ],
   "source": [
    "df_fb_tq_2year['Adj. Volume'][:10]"
   ]
  },
  {
   "cell_type": "code",
   "execution_count": null,
   "metadata": {},
   "outputs": [],
   "source": [
    "df_fb_tq_2year['SMA'] = df_fb_tq['Adj. Volume']"
   ]
  },
  {
   "cell_type": "code",
   "execution_count": 95,
   "metadata": {},
   "outputs": [],
   "source": [
    "bin_length_10week = len(df_fb_tq_2year.index) / 70\n",
    "bin_length_40week = len(df_fb_tq_2year.index) / 280"
   ]
  },
  {
   "cell_type": "code",
   "execution_count": 45,
   "metadata": {},
   "outputs": [],
   "source": [
    "df_by_volume_7day_2year = df_fb_tq_2year.resample(\"W\").sum()[\"Volume\"]"
   ]
  },
  {
   "cell_type": "code",
   "execution_count": 46,
   "metadata": {},
   "outputs": [],
   "source": [
    "df_7day_volume_clean = pd.DataFrame(df_by_volume_7day_2year)"
   ]
  },
  {
   "cell_type": "code",
   "execution_count": 47,
   "metadata": {},
   "outputs": [],
   "source": [
    "df_7day_volume_clean.index = pd.to_datetime(df_7day_volume_clean.index, format=\"%Y-%m-%d\")"
   ]
  },
  {
   "cell_type": "code",
   "execution_count": 48,
   "metadata": {},
   "outputs": [],
   "source": [
    "df_7day_volume_clean['Date'] = df_7day_volume_clean.index"
   ]
  },
  {
   "cell_type": "code",
   "execution_count": 49,
   "metadata": {},
   "outputs": [
    {
     "name": "stdout",
     "output_type": "stream",
     "text": [
      "<class 'pandas.core.frame.DataFrame'>\n",
      "DatetimeIndex: 105 entries, 2016-04-03 to 2018-04-01\n",
      "Freq: W-SUN\n",
      "Data columns (total 2 columns):\n",
      " #   Column  Non-Null Count  Dtype         \n",
      "---  ------  --------------  -----         \n",
      " 0   Volume  105 non-null    float64       \n",
      " 1   Date    105 non-null    datetime64[ns]\n",
      "dtypes: datetime64[ns](1), float64(1)\n",
      "memory usage: 2.5 KB\n"
     ]
    }
   ],
   "source": [
    "df_7day_volume_clean.info()"
   ]
  },
  {
   "cell_type": "code",
   "execution_count": 94,
   "metadata": {},
   "outputs": [
    {
     "data": {
      "text/html": [
       "<div>\n",
       "<style scoped>\n",
       "    .dataframe tbody tr th:only-of-type {\n",
       "        vertical-align: middle;\n",
       "    }\n",
       "\n",
       "    .dataframe tbody tr th {\n",
       "        vertical-align: top;\n",
       "    }\n",
       "\n",
       "    .dataframe thead th {\n",
       "        text-align: right;\n",
       "    }\n",
       "</style>\n",
       "<table border=\"1\" class=\"dataframe\">\n",
       "  <thead>\n",
       "    <tr style=\"text-align: right;\">\n",
       "      <th></th>\n",
       "      <th>Volume</th>\n",
       "      <th>Date</th>\n",
       "    </tr>\n",
       "    <tr>\n",
       "      <th>Date</th>\n",
       "      <th></th>\n",
       "      <th></th>\n",
       "    </tr>\n",
       "  </thead>\n",
       "  <tbody>\n",
       "    <tr>\n",
       "      <th>2016-04-03</th>\n",
       "      <td>130380305.0</td>\n",
       "      <td>2016-04-03</td>\n",
       "    </tr>\n",
       "    <tr>\n",
       "      <th>2016-04-10</th>\n",
       "      <td>161477263.0</td>\n",
       "      <td>2016-04-10</td>\n",
       "    </tr>\n",
       "    <tr>\n",
       "      <th>2016-04-17</th>\n",
       "      <td>203633903.0</td>\n",
       "      <td>2016-04-17</td>\n",
       "    </tr>\n",
       "    <tr>\n",
       "      <th>2016-04-24</th>\n",
       "      <td>131738986.0</td>\n",
       "      <td>2016-04-24</td>\n",
       "    </tr>\n",
       "    <tr>\n",
       "      <th>2016-05-01</th>\n",
       "      <td>220003210.0</td>\n",
       "      <td>2016-05-01</td>\n",
       "    </tr>\n",
       "    <tr>\n",
       "      <th>...</th>\n",
       "      <td>...</td>\n",
       "      <td>...</td>\n",
       "    </tr>\n",
       "    <tr>\n",
       "      <th>2018-03-04</th>\n",
       "      <td>94503755.0</td>\n",
       "      <td>2018-03-04</td>\n",
       "    </tr>\n",
       "    <tr>\n",
       "      <th>2018-03-11</th>\n",
       "      <td>83662089.0</td>\n",
       "      <td>2018-03-11</td>\n",
       "    </tr>\n",
       "    <tr>\n",
       "      <th>2018-03-18</th>\n",
       "      <td>87595042.0</td>\n",
       "      <td>2018-03-18</td>\n",
       "    </tr>\n",
       "    <tr>\n",
       "      <th>2018-03-25</th>\n",
       "      <td>446871029.0</td>\n",
       "      <td>2018-03-25</td>\n",
       "    </tr>\n",
       "    <tr>\n",
       "      <th>2018-04-01</th>\n",
       "      <td>202226178.0</td>\n",
       "      <td>2018-04-01</td>\n",
       "    </tr>\n",
       "  </tbody>\n",
       "</table>\n",
       "<p>105 rows × 2 columns</p>\n",
       "</div>"
      ],
      "text/plain": [
       "                 Volume       Date\n",
       "Date                              \n",
       "2016-04-03  130380305.0 2016-04-03\n",
       "2016-04-10  161477263.0 2016-04-10\n",
       "2016-04-17  203633903.0 2016-04-17\n",
       "2016-04-24  131738986.0 2016-04-24\n",
       "2016-05-01  220003210.0 2016-05-01\n",
       "...                 ...        ...\n",
       "2018-03-04   94503755.0 2018-03-04\n",
       "2018-03-11   83662089.0 2018-03-11\n",
       "2018-03-18   87595042.0 2018-03-18\n",
       "2018-03-25  446871029.0 2018-03-25\n",
       "2018-04-01  202226178.0 2018-04-01\n",
       "\n",
       "[105 rows x 2 columns]"
      ]
     },
     "execution_count": 94,
     "metadata": {},
     "output_type": "execute_result"
    }
   ],
   "source": [
    "df_7day_volume_clean"
   ]
  },
  {
   "cell_type": "code",
   "execution_count": null,
   "metadata": {},
   "outputs": [],
   "source": []
  },
  {
   "cell_type": "code",
   "execution_count": 50,
   "metadata": {},
   "outputs": [
    {
     "data": {
      "text/plain": [
       "[<matplotlib.lines.Line2D at 0x25ec26086d8>]"
      ]
     },
     "execution_count": 50,
     "metadata": {},
     "output_type": "execute_result"
    },
    {
     "data": {
      "image/png": "[encoded data removed]",
      "text/plain": [
       "<Figure size 432x288 with 1 Axes>"
      ]
     },
     "metadata": {
      "needs_background": "light"
     },
     "output_type": "display_data"
    }
   ],
   "source": [
    "plt.plot(df_7day_volume_clean['Date'],df_7day_volume_clean['Volume'])"
   ]
  },
  {
   "cell_type": "code",
   "execution_count": 96,
   "metadata": {},
   "outputs": [],
   "source": [
    "df_by_volume_10week =  df_fb_tq_2year.groupby(pd.cut(df_fb_tq_2year.index, bins=bin_length_ten, \n",
    "        precision=0))[\"Volume\"].sum()"
   ]
  },
  {
   "cell_type": "code",
   "execution_count": 98,
   "metadata": {},
   "outputs": [],
   "source": [
    "df_by_volume_10week = pd.DataFrame(df_by_volume_10week)"
   ]
  },
  {
   "cell_type": "code",
   "execution_count": 100,
   "metadata": {},
   "outputs": [],
   "source": [
    "df_by_volume_10week = df_by_volume_10week.reset_index(drop=True)\n",
    "df_by_volume_10week['Volume'] = df_by_volume_10week['Volume'] / bin_length_ten"
   ]
  },
  {
   "cell_type": "code",
   "execution_count": 108,
   "metadata": {},
   "outputs": [
    {
     "data": {
      "text/plain": [
       "<matplotlib.axes._subplots.AxesSubplot at 0x25ec4260d30>"
      ]
     },
     "execution_count": 108,
     "metadata": {},
     "output_type": "execute_result"
    },
    {
     "data": {
      "image/png": "[encoded data removed]",
      "text/plain": [
       "<Figure size 432x288 with 1 Axes>"
      ]
     },
     "metadata": {
      "needs_background": "light"
     },
     "output_type": "display_data"
    }
   ],
   "source": [
    "##VWAP"
   ]
  },
  {
   "cell_type": "code",
   "execution_count": 125,
   "metadata": {},
   "outputs": [
    {
     "data": {
      "text/html": [
       "<div>\n",
       "<style scoped>\n",
       "    .dataframe tbody tr th:only-of-type {\n",
       "        vertical-align: middle;\n",
       "    }\n",
       "\n",
       "    .dataframe tbody tr th {\n",
       "        vertical-align: top;\n",
       "    }\n",
       "\n",
       "    .dataframe thead th {\n",
       "        text-align: right;\n",
       "    }\n",
       "</style>\n",
       "<table border=\"1\" class=\"dataframe\">\n",
       "  <thead>\n",
       "    <tr style=\"text-align: right;\">\n",
       "      <th></th>\n",
       "      <th>Volume</th>\n",
       "      <th>Date</th>\n",
       "    </tr>\n",
       "    <tr>\n",
       "      <th>Date</th>\n",
       "      <th></th>\n",
       "      <th></th>\n",
       "    </tr>\n",
       "  </thead>\n",
       "  <tbody>\n",
       "    <tr>\n",
       "      <th>2016-04-03</th>\n",
       "      <td>130380305.0</td>\n",
       "      <td>2016-04-03</td>\n",
       "    </tr>\n",
       "    <tr>\n",
       "      <th>2016-04-10</th>\n",
       "      <td>161477263.0</td>\n",
       "      <td>2016-04-10</td>\n",
       "    </tr>\n",
       "    <tr>\n",
       "      <th>2016-04-17</th>\n",
       "      <td>203633903.0</td>\n",
       "      <td>2016-04-17</td>\n",
       "    </tr>\n",
       "    <tr>\n",
       "      <th>2016-04-24</th>\n",
       "      <td>131738986.0</td>\n",
       "      <td>2016-04-24</td>\n",
       "    </tr>\n",
       "    <tr>\n",
       "      <th>2016-05-01</th>\n",
       "      <td>220003210.0</td>\n",
       "      <td>2016-05-01</td>\n",
       "    </tr>\n",
       "    <tr>\n",
       "      <th>...</th>\n",
       "      <td>...</td>\n",
       "      <td>...</td>\n",
       "    </tr>\n",
       "    <tr>\n",
       "      <th>2018-03-04</th>\n",
       "      <td>94503755.0</td>\n",
       "      <td>2018-03-04</td>\n",
       "    </tr>\n",
       "    <tr>\n",
       "      <th>2018-03-11</th>\n",
       "      <td>83662089.0</td>\n",
       "      <td>2018-03-11</td>\n",
       "    </tr>\n",
       "    <tr>\n",
       "      <th>2018-03-18</th>\n",
       "      <td>87595042.0</td>\n",
       "      <td>2018-03-18</td>\n",
       "    </tr>\n",
       "    <tr>\n",
       "      <th>2018-03-25</th>\n",
       "      <td>446871029.0</td>\n",
       "      <td>2018-03-25</td>\n",
       "    </tr>\n",
       "    <tr>\n",
       "      <th>2018-04-01</th>\n",
       "      <td>202226178.0</td>\n",
       "      <td>2018-04-01</td>\n",
       "    </tr>\n",
       "  </tbody>\n",
       "</table>\n",
       "<p>105 rows × 2 columns</p>\n",
       "</div>"
      ],
      "text/plain": [
       "                 Volume       Date\n",
       "Date                              \n",
       "2016-04-03  130380305.0 2016-04-03\n",
       "2016-04-10  161477263.0 2016-04-10\n",
       "2016-04-17  203633903.0 2016-04-17\n",
       "2016-04-24  131738986.0 2016-04-24\n",
       "2016-05-01  220003210.0 2016-05-01\n",
       "...                 ...        ...\n",
       "2018-03-04   94503755.0 2018-03-04\n",
       "2018-03-11   83662089.0 2018-03-11\n",
       "2018-03-18   87595042.0 2018-03-18\n",
       "2018-03-25  446871029.0 2018-03-25\n",
       "2018-04-01  202226178.0 2018-04-01\n",
       "\n",
       "[105 rows x 2 columns]"
      ]
     },
     "execution_count": 125,
     "metadata": {},
     "output_type": "execute_result"
    }
   ],
   "source": [
    "#simple moving average\n",
    "df_7day_volume_clean['SMA']\n"
   ]
  },
  {
   "cell_type": "code",
   "execution_count": 124,
   "metadata": {},
   "outputs": [
    {
     "data": {
      "image/png": "[encoded data removed]",
      "text/plain": [
       "<Figure size 5760x1800 with 1 Axes>"
      ]
     },
     "metadata": {
      "needs_background": "light"
     },
     "output_type": "display_data"
    }
   ],
   "source": [
    "x_axis = df_7day_volume_clean['Date']\n",
    "y_axis = df_7day_volume_clean['Volume']\n",
    "\n",
    "figure, ax = plt.subplots()\n",
    "ax.bar(x_axis,y_axis,edgecolor='b')\n",
    "ax.plot(x_axis,y_axis,c='red')\n",
    "ax.grid(color='white')\n",
    "ax.set_ylim(0,700000000)\n",
    "ax.set_title(f'Volume vs. Weekly (2years)',size = 40)\n",
    "ax.set_xlabel('Date (Weekly)',fontsize = 40)\n",
    "ax.set_ylabel('Volume',fontsize = 40)\n",
    "ax.set_facecolor('lightblue')\n",
    "figure.set_figheight(25)\n",
    "figure.set_figwidth(80)\n",
    "ax.tick_params(axis='both', labelsize=40)\n",
    "#plt.savefig(os.path.join(f'City Latitude vs Max Temperature.png'))\n",
    "plt.show()"
   ]
  },
  {
   "cell_type": "code",
   "execution_count": 85,
   "metadata": {},
   "outputs": [],
   "source": [
    "#7 days x 10 weeks \n",
    "#7 days x 40 weeks = 280\n",
    "bin_length_10week = len(df_fb_tq_2year.index) / 70\n",
    "bin_length_40week = len(df_fb_tq_2year.index) / 280"
   ]
  },
  {
   "cell_type": "code",
   "execution_count": 86,
   "metadata": {},
   "outputs": [],
   "source": [
    "bin_length_ten = np.round(bin_length_10week)\n",
    "bin_length_forty = np.round(bin_length_40week)"
   ]
  },
  {
   "cell_type": "code",
   "execution_count": 87,
   "metadata": {},
   "outputs": [],
   "source": [
    "df_by_close_10week =  df_fb_tq_2year.groupby(pd.cut(df_fb_tq_2year.index, bins=bin_length_ten, \n",
    "        precision=0))[\"Adj. Close\"].sum()\n",
    "df_by_close_40week =  df_fb_tq_2year.groupby(pd.cut(df_fb_tq_2year.index, bins=bin_length_forty, \n",
    "        precision=0))[\"Adj. Close\"].sum()"
   ]
  },
  {
   "cell_type": "code",
   "execution_count": 88,
   "metadata": {},
   "outputs": [],
   "source": [
    "df_by_close_10week = pd.DataFrame(df_by_close_10week)\n",
    "df_by_close_40week = pd.DataFrame(df_by_close_40week)"
   ]
  },
  {
   "cell_type": "code",
   "execution_count": 89,
   "metadata": {},
   "outputs": [],
   "source": [
    "df_by_close_10week = df_by_close_10week.reset_index(drop=True)\n",
    "df_by_close_40week = df_by_close_40week.reset_index(drop=True)"
   ]
  },
  {
   "cell_type": "code",
   "execution_count": 90,
   "metadata": {},
   "outputs": [],
   "source": [
    "df_by_close_10week['Adj. Close'] = df_by_close_10week['Adj. Close'] / 70\n",
    "df_by_close_40week['Adj. Close'] = df_by_close_40week['Adj. Close'] / 280"
   ]
  },
  {
   "cell_type": "code",
   "execution_count": 91,
   "metadata": {},
   "outputs": [],
   "source": [
    "df_10week_avg = df_by_close_10week\n",
    "df_40week_avg = df_by_close_40week"
   ]
  },
  {
   "cell_type": "code",
   "execution_count": 92,
   "metadata": {},
   "outputs": [
    {
     "data": {
      "text/html": [
       "<div>\n",
       "<style scoped>\n",
       "    .dataframe tbody tr th:only-of-type {\n",
       "        vertical-align: middle;\n",
       "    }\n",
       "\n",
       "    .dataframe tbody tr th {\n",
       "        vertical-align: top;\n",
       "    }\n",
       "\n",
       "    .dataframe thead th {\n",
       "        text-align: right;\n",
       "    }\n",
       "</style>\n",
       "<table border=\"1\" class=\"dataframe\">\n",
       "  <thead>\n",
       "    <tr style=\"text-align: right;\">\n",
       "      <th></th>\n",
       "      <th>Adj. Close</th>\n",
       "    </tr>\n",
       "  </thead>\n",
       "  <tbody>\n",
       "    <tr>\n",
       "      <th>0</th>\n",
       "      <td>120.158857</td>\n",
       "    </tr>\n",
       "    <tr>\n",
       "      <th>1</th>\n",
       "      <td>132.889429</td>\n",
       "    </tr>\n",
       "    <tr>\n",
       "      <th>2</th>\n",
       "      <td>124.760571</td>\n",
       "    </tr>\n",
       "    <tr>\n",
       "      <th>3</th>\n",
       "      <td>145.332429</td>\n",
       "    </tr>\n",
       "    <tr>\n",
       "      <th>4</th>\n",
       "      <td>163.963286</td>\n",
       "    </tr>\n",
       "    <tr>\n",
       "      <th>5</th>\n",
       "      <td>177.158857</td>\n",
       "    </tr>\n",
       "    <tr>\n",
       "      <th>6</th>\n",
       "      <td>182.553284</td>\n",
       "    </tr>\n",
       "  </tbody>\n",
       "</table>\n",
       "</div>"
      ],
      "text/plain": [
       "   Adj. Close\n",
       "0  120.158857\n",
       "1  132.889429\n",
       "2  124.760571\n",
       "3  145.332429\n",
       "4  163.963286\n",
       "5  177.158857\n",
       "6  182.553284"
      ]
     },
     "execution_count": 92,
     "metadata": {},
     "output_type": "execute_result"
    }
   ],
   "source": [
    "df_10week_avg"
   ]
  },
  {
   "cell_type": "code",
   "execution_count": 93,
   "metadata": {},
   "outputs": [
    {
     "data": {
      "text/html": [
       "<div>\n",
       "<style scoped>\n",
       "    .dataframe tbody tr th:only-of-type {\n",
       "        vertical-align: middle;\n",
       "    }\n",
       "\n",
       "    .dataframe tbody tr th {\n",
       "        vertical-align: top;\n",
       "    }\n",
       "\n",
       "    .dataframe thead th {\n",
       "        text-align: right;\n",
       "    }\n",
       "</style>\n",
       "<table border=\"1\" class=\"dataframe\">\n",
       "  <thead>\n",
       "    <tr style=\"text-align: right;\">\n",
       "      <th></th>\n",
       "      <th>Adj. Close</th>\n",
       "    </tr>\n",
       "  </thead>\n",
       "  <tbody>\n",
       "    <tr>\n",
       "      <th>0</th>\n",
       "      <td>111.542393</td>\n",
       "    </tr>\n",
       "    <tr>\n",
       "      <th>1</th>\n",
       "      <td>150.161785</td>\n",
       "    </tr>\n",
       "  </tbody>\n",
       "</table>\n",
       "</div>"
      ],
      "text/plain": [
       "   Adj. Close\n",
       "0  111.542393\n",
       "1  150.161785"
      ]
     },
     "execution_count": 93,
     "metadata": {},
     "output_type": "execute_result"
    }
   ],
   "source": [
    "df_40week_avg"
   ]
  },
  {
   "cell_type": "code",
   "execution_count": null,
   "metadata": {},
   "outputs": [],
   "source": []
  },
  {
   "cell_type": "markdown",
   "metadata": {},
   "source": [
    "# Will need to split data into the following tables to graph them.\n",
    "Volumne and Date.\n",
    "Open and Date\n",
    "High and Date\n",
    "Open minus Close\n"
   ]
  },
  {
   "cell_type": "code",
   "execution_count": null,
   "metadata": {},
   "outputs": [],
   "source": []
  },
  {
   "cell_type": "code",
   "execution_count": null,
   "metadata": {},
   "outputs": [],
   "source": [
    "df_fb_tq"
   ]
  },
  {
   "cell_type": "code",
   "execution_count": null,
   "metadata": {},
   "outputs": [],
   "source": []
  },
  {
   "cell_type": "code",
   "execution_count": null,
   "metadata": {},
   "outputs": [],
   "source": []
  },
  {
   "cell_type": "code",
   "execution_count": null,
   "metadata": {},
   "outputs": [],
   "source": []
  },
  {
   "cell_type": "code",
   "execution_count": null,
   "metadata": {},
   "outputs": [],
   "source": []
  },
  {
   "cell_type": "code",
   "execution_count": null,
   "metadata": {},
   "outputs": [],
   "source": []
  },
  {
   "cell_type": "code",
   "execution_count": null,
   "metadata": {},
   "outputs": [],
   "source": []
  },
  {
   "cell_type": "code",
   "execution_count": null,
   "metadata": {},
   "outputs": [],
   "source": [
    "style.use('ggplot')"
   ]
  },
  {
   "cell_type": "code",
   "execution_count": null,
   "metadata": {},
   "outputs": [],
   "source": [
    "start = dt.datetime(2000,1,1)\n",
    "end = dt.datetime(2016,12,31)"
   ]
  },
  {
   "cell_type": "code",
   "execution_count": null,
   "metadata": {},
   "outputs": [],
   "source": [
    "dates = []\n",
    "prices = []"
   ]
  },
  {
   "cell_type": "code",
   "execution_count": null,
   "metadata": {},
   "outputs": [],
   "source": [
    "def get_data(filename):\n",
    "    with open(filename, 'r') as csvfile:\n",
    "        csvFileReader = csv.reader(csvfile)\n",
    "        next(csvFileReader)\n",
    "        for row in csvFileReader:\n",
    "            dates.append(int(row[0].split('-')[0]))\n",
    "            prices.append(float(row[1]))\n",
    "    return"
   ]
  },
  {
   "cell_type": "code",
   "execution_count": null,
   "metadata": {},
   "outputs": [],
   "source": [
    "def predict_prices(dates,prices,x):\n",
    "    "
   ]
  }
 ],
 "metadata": {
  "kernelspec": {
   "display_name": "Python 3",
   "language": "python",
   "name": "python3"
  },
  "language_info": {
   "codemirror_mode": {
    "name": "ipython",
    "version": 3
   },
   "file_extension": ".py",
   "mimetype": "text/x-python",
   "name": "python",
   "nbconvert_exporter": "python",
   "pygments_lexer": "ipython3",
   "version": "3.7.3"
  }
 },
 "nbformat": 4,
 "nbformat_minor": 2
}
