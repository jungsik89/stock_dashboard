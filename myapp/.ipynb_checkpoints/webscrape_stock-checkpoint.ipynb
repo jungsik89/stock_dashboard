{
 "cells": [
  {
   "cell_type": "code",
   "execution_count": null,
   "metadata": {},
   "outputs": [],
   "source": [
    "from splinter import Browser\n",
    "from bs4 import BeautifulSoup as bs\n",
    "import requests\n",
    "import time"
   ]
  },
  {
   "cell_type": "code",
   "execution_count": null,
   "metadata": {},
   "outputs": [],
   "source": [
    "executable_path = {\"executable_path\": \"chromedriver\"}\n",
    "browser = Browser(\"chrome\", **executable_path, headless=False)"
   ]
  },
  {
   "cell_type": "code",
   "execution_count": null,
   "metadata": {},
   "outputs": [],
   "source": [
    "url = \"https://mars.nasa.gov/news/\"\n",
    "browser.visit(url)\n",
    "time.sleep(2)"
   ]
  },
  {
   "cell_type": "code",
   "execution_count": null,
   "metadata": {},
   "outputs": [],
   "source": [
    "html = browser.html\n",
    "soup = bs(html, \"html.parser\")"
   ]
  },
  {
   "cell_type": "code",
   "execution_count": null,
   "metadata": {},
   "outputs": [],
   "source": [
    "news_title_all = soup.findAll(\"div\", {\"class\": \"content_title\"})\n",
    "news_p_all = soup.findAll(\"div\", {\"class\": \"article_teaser_body\"})"
   ]
  },
  {
   "cell_type": "code",
   "execution_count": null,
   "metadata": {},
   "outputs": [],
   "source": [
    "for title in news_title_all:\n",
    "    news_title = news_title_all[0].text\n",
    "    \n",
    "for paragraph in news_p_all:\n",
    "    news_p = news_p_all[0].text"
   ]
  },
  {
   "cell_type": "markdown",
   "metadata": {},
   "source": [
    "# NASA IMAGE URL SCAPE"
   ]
  },
  {
   "cell_type": "markdown",
   "metadata": {},
   "source": [
    "Use splinter to Click the \"Mars in natural color in 2007\" image \n",
    "to bring up the full resolution image"
   ]
  },
  {
   "cell_type": "code",
   "execution_count": null,
   "metadata": {},
   "outputs": [],
   "source": [
    "url_pic = \"https://www.jpl.nasa.gov/spaceimages/?search=&category=Mars\"\n",
    "browser.visit(url_pic)"
   ]
  },
  {
   "cell_type": "code",
   "execution_count": null,
   "metadata": {},
   "outputs": [],
   "source": [
    "fullimage = browser.find_by_id('full_image')\n",
    "fullimage.click()"
   ]
  },
  {
   "cell_type": "code",
   "execution_count": null,
   "metadata": {},
   "outputs": [],
   "source": [
    "browser.is_element_present_by_text('more info', wait_time=2)\n",
    "more_info = browser.links.find_by_partial_text('more info')\n",
    "more_info.click()"
   ]
  },
  {
   "cell_type": "code",
   "execution_count": null,
   "metadata": {},
   "outputs": [],
   "source": [
    "html = browser.html\n",
    "moreinfo_soup = bs(html, 'html.parser')"
   ]
  },
  {
   "cell_type": "code",
   "execution_count": null,
   "metadata": {},
   "outputs": [],
   "source": [
    "image_title = moreinfo_soup.find('h1', class_='article_title')"
   ]
  },
  {
   "cell_type": "code",
   "execution_count": null,
   "metadata": {},
   "outputs": [],
   "source": [
    "image_title = str(image_title.text)"
   ]
  },
  {
   "cell_type": "code",
   "execution_count": null,
   "metadata": {},
   "outputs": [],
   "source": [
    "image_title = image_title.replace('\\n', '')\n",
    "image_title = image_title.replace('\\t', '')"
   ]
  },
  {
   "cell_type": "code",
   "execution_count": null,
   "metadata": {},
   "outputs": [],
   "source": [
    "image_title"
   ]
  },
  {
   "cell_type": "code",
   "execution_count": null,
   "metadata": {},
   "outputs": [],
   "source": [
    "image_url = moreinfo_soup.select_one('.main_image').get('src')"
   ]
  },
  {
   "cell_type": "code",
   "execution_count": null,
   "metadata": {},
   "outputs": [],
   "source": [
    "image_url"
   ]
  },
  {
   "cell_type": "code",
   "execution_count": null,
   "metadata": {},
   "outputs": [],
   "source": [
    "full_image_url = f'https://www.jpl.nasa.gov{image_url}'"
   ]
  },
  {
   "cell_type": "markdown",
   "metadata": {},
   "source": [
    "# twitter"
   ]
  },
  {
   "cell_type": "code",
   "execution_count": null,
   "metadata": {},
   "outputs": [],
   "source": [
    "twitter_url = 'https://twitter.com/marswxreport?lang=en'\n",
    "browser.visit(twitter_url)\n",
    "time.sleep(2)"
   ]
  },
  {
   "cell_type": "code",
   "execution_count": null,
   "metadata": {},
   "outputs": [],
   "source": [
    "html = browser.html\n",
    "twitter_soup = bs(html, \"html.parser\")"
   ]
  },
  {
   "cell_type": "code",
   "execution_count": null,
   "metadata": {},
   "outputs": [],
   "source": [
    "for x in twitter_soup.find('p', class_ =\"TweetTextSize TweetTextSize--normal js-tweet-text tweet-text\"):\n",
    "    mars_weather = x\n",
    "    break"
   ]
  },
  {
   "cell_type": "markdown",
   "metadata": {},
   "source": [
    "# Mars Fact"
   ]
  },
  {
   "cell_type": "code",
   "execution_count": null,
   "metadata": {},
   "outputs": [],
   "source": [
    "import pandas as pd\n",
    "fact_url = 'https://space-facts.com/mars/'\n",
    "browser.visit(fact_url)\n",
    "time.sleep(2)"
   ]
  },
  {
   "cell_type": "code",
   "execution_count": null,
   "metadata": {},
   "outputs": [],
   "source": [
    "fact_table = pd.read_html(fact_url)\n",
    "df = fact_table[0]\n"
   ]
  },
  {
   "cell_type": "code",
   "execution_count": null,
   "metadata": {},
   "outputs": [],
   "source": [
    "df"
   ]
  },
  {
   "cell_type": "code",
   "execution_count": null,
   "metadata": {},
   "outputs": [],
   "source": [
    "df.columns = ['Description','Facts']\n",
    "df"
   ]
  },
  {
   "cell_type": "code",
   "execution_count": null,
   "metadata": {},
   "outputs": [],
   "source": [
    "html_table = df.to_html()\n",
    "print(html_table)"
   ]
  },
  {
   "cell_type": "code",
   "execution_count": null,
   "metadata": {},
   "outputs": [],
   "source": [
    "import re\n",
    "hemisphr_img_urls = []\n",
    "for x in range(0,4):\n",
    "    \n",
    "    hemisphere_url = 'https://astrogeology.usgs.gov/search/results?q=hemisphere+enhanced&k1=target&v1=Mars'\n",
    "    browser.visit(hemisphere_url)\n",
    "#     html = browser.html\n",
    "#     hemisphr_soup = bs(html, \"html.parser\")\n",
    "\n",
    "    #goes by each header and click them in order\n",
    "    hemisphere = browser.find_by_tag('h3')[x]\n",
    "    hemisphere.click()\n",
    "    time.sleep(2)\n",
    "    html = browser.html\n",
    "    hemisphere_soup = bs(html, \"html.parser\")\n",
    "    hemisphere_soup = hemisphere_soup.find_all(\"div\", {\"class\": \"downloads\"})\n",
    "    hemisphr_img_urls.append(hemisphere_soup[0].find_all(\"a\")[0]['href'])\n",
    "    \n",
    "#     sample_page = browser.find_by_text('sample')[x]\n",
    "#     sample_page.click\n",
    "#     sample_page = browser.html\n",
    "#     sample_soup = bs(html, \"html.parser\")\n",
    "#     print(sample_soup.prettify())\n",
    "#     html = browser.html\n",
    "#     sample_soup = bs(html, \"html.parser\")\n",
    "# #     for x in soup.find_all('a'):\n",
    "# #         print(link.get('href'))\n",
    "# #     sample_link = soup.find_all('a', text=\"Sample\")\n",
    "#     all_Sample = sample_soup.find_all(string=\"Sample\")\n",
    "    \n",
    "    \n",
    "#     hemisphr_image_urls.append(x.href)\n",
    "\n",
    "           \n",
    "    \n",
    "\n",
    "#     full_image = browser.find_link_by_text('Sample').get('src')\n",
    "#     full_image = browser.find_link_by_href('full.jpg').get('src')\n",
    "#     hemisphr_image_urls.append(full_image)\n",
    "    \n",
    "    \n",
    "#     sample = browser.links.find_by_partial_text('sample')\n",
    "#     sample.click()\n",
    "#     sample_soup = bs(html, \"html.parser\")\n",
    "#     hemisphr_image_urls.append(sample_soup.select_one('img').get('src'))\n",
    "    \n",
    "#soup.find_all(string=\"Sample\")\n",
    "\n",
    "    "
   ]
  },
  {
   "cell_type": "code",
   "execution_count": null,
   "metadata": {},
   "outputs": [],
   "source": [
    "hemisphere_soup = hemisphere_soup.find_all(\"div\", {\"class\": \"downloads\"})"
   ]
  },
  {
   "cell_type": "code",
   "execution_count": null,
   "metadata": {},
   "outputs": [],
   "source": [
    "hemisphr_img_urls.append(hemisphere_soup[0].find_all(\"a\")[0]['href'])"
   ]
  },
  {
   "cell_type": "code",
   "execution_count": null,
   "metadata": {},
   "outputs": [],
   "source": [
    "hemisphr_img_urls"
   ]
  },
  {
   "cell_type": "code",
   "execution_count": null,
   "metadata": {},
   "outputs": [],
   "source": [
    " "
   ]
  },
  {
   "cell_type": "code",
   "execution_count": null,
   "metadata": {},
   "outputs": [],
   "source": []
  },
  {
   "cell_type": "code",
   "execution_count": null,
   "metadata": {},
   "outputs": [],
   "source": []
  },
  {
   "cell_type": "code",
   "execution_count": null,
   "metadata": {},
   "outputs": [],
   "source": []
  },
  {
   "cell_type": "code",
   "execution_count": null,
   "metadata": {},
   "outputs": [],
   "source": [
    "browser.quit()"
   ]
  },
  {
   "cell_type": "markdown",
   "metadata": {},
   "source": [
    "# MongoDB and Flask"
   ]
  },
  {
   "cell_type": "code",
   "execution_count": null,
   "metadata": {},
   "outputs": [],
   "source": [
    "import pymongo\n",
    "conn = \"mongodb://127.0.0.1:27017\"\n",
    "client = pymongo.MongoClient(conn)"
   ]
  },
  {
   "cell_type": "code",
   "execution_count": null,
   "metadata": {},
   "outputs": [],
   "source": [
    "db = client.mission_mars"
   ]
  },
  {
   "cell_type": "code",
   "execution_count": null,
   "metadata": {},
   "outputs": [],
   "source": [
    "collection = db.info_mars"
   ]
  },
  {
   "cell_type": "code",
   "execution_count": null,
   "metadata": {},
   "outputs": [],
   "source": [
    "db.info_mars.insert_many(\n",
    "        [{\n",
    "            \"news_title\": news_title,\n",
    "            \"news_paragraph\": news_p,\n",
    "            \"image_url\": full_image_url,\n",
    "            \"weather\": mars_weather,\n",
    "            \"hemi_url\": hemisphr_img_urls\n",
    "        }])"
   ]
  },
  {
   "cell_type": "code",
   "execution_count": null,
   "metadata": {},
   "outputs": [],
   "source": []
  }
 ],
 "metadata": {
  "kernelspec": {
   "display_name": "Python 3",
   "language": "python",
   "name": "python3"
  },
  "language_info": {
   "codemirror_mode": {
    "name": "ipython",
    "version": 3
   },
   "file_extension": ".py",
   "mimetype": "text/x-python",
   "name": "python",
   "nbconvert_exporter": "python",
   "pygments_lexer": "ipython3",
   "version": "3.7.3"
  }
 },
 "nbformat": 4,
 "nbformat_minor": 2
}
