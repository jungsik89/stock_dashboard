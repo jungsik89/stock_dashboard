{
 "cells": [
  {
   "cell_type": "code",
   "execution_count": null,
   "metadata": {},
   "outputs": [],
   "source": [
    "import datetime as dt \n",
    "from datetime import date\n",
    "import matplotlib.pyplot as plt\n",
    "from matplotlib import style\n",
    "import pandas as pd\n",
    "import quandl\n",
    "import pandas_datareader as web\n",
    "import numpy as np\n",
    "from config import quandl_apikey\n",
    "import requests"
   ]
  },
  {
   "cell_type": "code",
   "execution_count": null,
   "metadata": {},
   "outputs": [],
   "source": [
    "#enter the stock to query\n",
    "query_stock = \"GOOGL\"\n",
    "#quandl.ApiConfig.api_key = quandl_apikey"
   ]
  },
  {
   "cell_type": "code",
   "execution_count": null,
   "metadata": {},
   "outputs": [],
   "source": []
  },
  {
   "cell_type": "markdown",
   "metadata": {},
   "source": [
    "# PARAMETER: for filtering \n",
    "#qopts.columns\n",
    "#Request data from specific columns by passing the qopts.columns parameter. If you want to query for multiple columns, include #the column names separated by a comma.\n",
    "\n",
    "#FILTERS:\n",
    "#.gte=\n",
    "\n",
    "#Modifies the parameter to return values greater than or equal to the requested value\n",
    "#.lte=\n",
    "#Modifies the parameter to return values less than or equal to the requested value"
   ]
  },
  {
   "cell_type": "code",
   "execution_count": null,
   "metadata": {},
   "outputs": [],
   "source": [
    "#api_url = f\"https://www.quandl.com/api/v3/datasets/EOD/{query_stock}.csv?api_key={quandl_apikey}\"\n",
    "\n",
    "#url = \"https://www.quandl.com/api/v3/datasets/WIKI/AAPL.csv\"\n",
    "\n",
    "#request_1 = requests.get(url)\n",
    "\n",
    "#“WIKI/PRICES”\n",
    "##WIKI IS END OF DAY US STOCK PRICES\n",
    "\n",
    "\n",
    "# get the table for daily stock prices and,\n",
    "# filter the table for selected tickers, columns within a time range\n",
    "# set paginate to True because Quandl limits tables API to 10,000 rows per call\n",
    "\n",
    "# data = quandl.get_table('WIKI/PRICES', ticker = ['AAPL', 'MSFT', 'WMT'], \n",
    "#                     qopts = { 'columns': ['ticker', 'date', 'adj_close'] }, \n",
    "#                     date = { 'gte': '2015-12-31', 'lte': '2016-12-31' }, \n",
    "#                     paginate=True)\n",
    "#data\n",
    "\n",
    "#data.info()\n",
    "\n",
    "#data.describe()\n",
    "\n",
    "# create a new dataframe with 'date' column as index\n",
    "#new = data.set_index('date')\n",
    "\n",
    "# use pandas pivot function to sort adj_close by tickers\n",
    "#clean_data = new.pivot(columns='ticker')\n",
    "\n",
    "# check the head of the output\n",
    "#clean_data.head()"
   ]
  },
  {
   "cell_type": "code",
   "execution_count": null,
   "metadata": {},
   "outputs": [],
   "source": [
    "#clean_data.tail()"
   ]
  },
  {
   "cell_type": "code",
   "execution_count": null,
   "metadata": {},
   "outputs": [],
   "source": [
    "#clean_data.index"
   ]
  },
  {
   "cell_type": "code",
   "execution_count": null,
   "metadata": {},
   "outputs": [],
   "source": [
    "\n",
    "\n",
    "#plt.plot(clean_data.index, clean_data['adj_close']['AAPL'])\n",
    "#plt.plot(clean_data.index, clean_data['adj_close']['MSFT'])\n"
   ]
  },
  {
   "cell_type": "code",
   "execution_count": null,
   "metadata": {},
   "outputs": [],
   "source": [
    "#plt.bar(clean_data.index, clean_data['adj_close']['WMT'])"
   ]
  },
  {
   "cell_type": "code",
   "execution_count": null,
   "metadata": {},
   "outputs": [],
   "source": []
  },
  {
   "cell_type": "code",
   "execution_count": null,
   "metadata": {},
   "outputs": [],
   "source": [
    "\n",
    "#data_tsx = quandl.get_table('TSX/', ticker = ['AAPL', 'MSFT', 'WMT'], \n",
    "                 #       qopts = { 'columns': ['ticker', 'date', 'adj_close'] }, \n",
    "                  #      date = { 'gte': '2015-12-31', 'lte': '2016-12-31' }, \n",
    "                   #     paginate=True)\n",
    "#data_tsx"
   ]
  },
  {
   "cell_type": "code",
   "execution_count": null,
   "metadata": {},
   "outputs": [],
   "source": [
    "#data_query = quandl.get(\"EIA/PET_RWTC_D\")"
   ]
  },
  {
   "cell_type": "code",
   "execution_count": null,
   "metadata": {},
   "outputs": [],
   "source": [
    "#plt.plot(data_query.index, data_query['Value'])"
   ]
  },
  {
   "cell_type": "code",
   "execution_count": null,
   "metadata": {},
   "outputs": [],
   "source": [
    "#tabledata\n",
    "#do not need\n",
    "#data = quandl.get_table('ZACKS/FC', paginate=True)"
   ]
  },
  {
   "cell_type": "code",
   "execution_count": null,
   "metadata": {},
   "outputs": [],
   "source": [
    "#Getting forbidden error. \n",
    "#quandl.bulkdownload(\"AAPL\")"
   ]
  },
  {
   "cell_type": "code",
   "execution_count": null,
   "metadata": {},
   "outputs": [],
   "source": [
    "target_stock = 'FB'"
   ]
  },
  {
   "cell_type": "code",
   "execution_count": null,
   "metadata": {},
   "outputs": [],
   "source": [
    "time_api = f\"https://www.quandl.com/api/v3/datasets/WIKI/{target_stock}/data.json?api_key={quandl_apikey}\""
   ]
  },
  {
   "cell_type": "code",
   "execution_count": null,
   "metadata": {},
   "outputs": [],
   "source": [
    "time_query_FB = requests.get(time_api)"
   ]
  },
  {
   "cell_type": "code",
   "execution_count": null,
   "metadata": {},
   "outputs": [],
   "source": [
    "tq_fb_json = time_query_FB.json()"
   ]
  },
  {
   "cell_type": "code",
   "execution_count": null,
   "metadata": {},
   "outputs": [],
   "source": [
    "df_fb_tq = pd.DataFrame(tq_fb_json['dataset_data']['data'],columns= tq_fb_json['dataset_data']['column_names'])"
   ]
  },
  {
   "cell_type": "code",
   "execution_count": null,
   "metadata": {},
   "outputs": [],
   "source": [
    "df_fb_tq['Ticker'] = target_stock"
   ]
  },
  {
   "cell_type": "code",
   "execution_count": null,
   "metadata": {},
   "outputs": [],
   "source": [
    "df_fb_tq['Open_Close_Diff'] = df_fb_tq['Adj. Open'] - df_fb_tq['Adj. Close']"
   ]
  },
  {
   "cell_type": "code",
   "execution_count": null,
   "metadata": {},
   "outputs": [],
   "source": [
    "df_fb_tq"
   ]
  },
  {
   "cell_type": "code",
   "execution_count": null,
   "metadata": {},
   "outputs": [],
   "source": [
    "df_fb_tq.columns"
   ]
  },
  {
   "cell_type": "code",
   "execution_count": null,
   "metadata": {},
   "outputs": [],
   "source": [
    "#before transfomration the dtype is object. \n",
    "df_fb_tq['Date'] = pd.to_datetime(df_fb_tq['Date'])"
   ]
  },
  {
   "cell_type": "code",
   "execution_count": null,
   "metadata": {},
   "outputs": [],
   "source": [
    "df_fb_tq = df_fb_tq.set_index(df_fb_tq['Date'],drop=True)"
   ]
  },
  {
   "cell_type": "code",
   "execution_count": null,
   "metadata": {},
   "outputs": [],
   "source": [
    "#today = date.today()"
   ]
  },
  {
   "cell_type": "code",
   "execution_count": null,
   "metadata": {},
   "outputs": [],
   "source": [
    "last_day = df_fb_tq.index[0]"
   ]
  },
  {
   "cell_type": "code",
   "execution_count": null,
   "metadata": {},
   "outputs": [],
   "source": [
    "years = 2\n",
    "days_per_year = 365.24\n",
    "after_date = last_day dt.timedelta(days=(years*days_per_year))"
   ]
  },
  {
   "cell_type": "code",
   "execution_count": null,
   "metadata": {},
   "outputs": [],
   "source": [
    "#targets index. do not need to specify\n",
    "df_fb_tq_2year = df_fb_tq.truncate(after = after_date)"
   ]
  },
  {
   "cell_type": "code",
   "execution_count": null,
   "metadata": {},
   "outputs": [],
   "source": [
    "df_fb_tq_2year"
   ]
  },
  {
   "cell_type": "code",
   "execution_count": null,
   "metadata": {},
   "outputs": [],
   "source": [
    "def SMA(x):\n",
    "    for x in range(10):\n",
    "        x = x + x\n",
    "        print(x)\n",
    "    x = x / 10\n",
    "    return x\n",
    "\n",
    "SMA([1,2,3,4,5,6,7,8,9,10])"
   ]
  },
  {
   "cell_type": "code",
   "execution_count": null,
   "metadata": {},
   "outputs": [],
   "source": [
    "df_fb_tq_2year['Adj. Volume'][:10]"
   ]
  },
  {
   "cell_type": "code",
   "execution_count": null,
   "metadata": {},
   "outputs": [],
   "source": [
    "df_fb_tq_2year['SMA'] = df_fb_tq['Adj. Volume']"
   ]
  },
  {
   "cell_type": "code",
   "execution_count": null,
   "metadata": {},
   "outputs": [],
   "source": [
    "bin_length_10week = len(df_fb_tq_2year.index) / 70\n",
    "bin_length_40week = len(df_fb_tq_2year.index) / 280"
   ]
  },
  {
   "cell_type": "code",
   "execution_count": null,
   "metadata": {},
   "outputs": [],
   "source": [
    "df_by_volume_7day_2year = df_fb_tq_2year.resample(\"W\").sum()[\"Volume\"]"
   ]
  },
  {
   "cell_type": "code",
   "execution_count": null,
   "metadata": {},
   "outputs": [],
   "source": [
    "df_7day_volume_clean = pd.DataFrame(df_by_volume_7day_2year)"
   ]
  },
  {
   "cell_type": "code",
   "execution_count": null,
   "metadata": {},
   "outputs": [],
   "source": [
    "df_7day_volume_clean.index = pd.to_datetime(df_7day_volume_clean.index, format=\"%Y-%m-%d\")"
   ]
  },
  {
   "cell_type": "code",
   "execution_count": null,
   "metadata": {},
   "outputs": [],
   "source": [
    "df_7day_volume_clean['Date'] = df_7day_volume_clean.index"
   ]
  },
  {
   "cell_type": "code",
   "execution_count": null,
   "metadata": {},
   "outputs": [],
   "source": [
    "df_7day_volume_clean.info()"
   ]
  },
  {
   "cell_type": "code",
   "execution_count": null,
   "metadata": {},
   "outputs": [],
   "source": [
    "df_7day_volume_clean"
   ]
  },
  {
   "cell_type": "code",
   "execution_count": null,
   "metadata": {},
   "outputs": [],
   "source": []
  },
  {
   "cell_type": "code",
   "execution_count": null,
   "metadata": {},
   "outputs": [],
   "source": [
    "plt.plot(df_7day_volume_clean['Date'],df_7day_volume_clean['Volume'])"
   ]
  },
  {
   "cell_type": "code",
   "execution_count": null,
   "metadata": {},
   "outputs": [],
   "source": [
    "df_by_volume_10week =  df_fb_tq_2year.groupby(pd.cut(df_fb_tq_2year.index, bins=bin_length_ten, \n",
    "        precision=0))[\"Volume\"].sum()"
   ]
  },
  {
   "cell_type": "code",
   "execution_count": null,
   "metadata": {},
   "outputs": [],
   "source": [
    "df_by_volume_10week = pd.DataFrame(df_by_volume_10week)"
   ]
  },
  {
   "cell_type": "code",
   "execution_count": null,
   "metadata": {},
   "outputs": [],
   "source": [
    "df_by_volume_10week = df_by_volume_10week.reset_index(drop=True)\n",
    "df_by_volume_10week['Volume'] = df_by_volume_10week['Volume'] / bin_length_ten"
   ]
  },
  {
   "cell_type": "code",
   "execution_count": null,
   "metadata": {},
   "outputs": [],
   "source": [
    "##VWAP"
   ]
  },
  {
   "cell_type": "code",
   "execution_count": null,
   "metadata": {},
   "outputs": [],
   "source": [
    "#simple moving average\n",
    "df_7day_volume_clean['SMA']\n"
   ]
  },
  {
   "cell_type": "code",
   "execution_count": null,
   "metadata": {},
   "outputs": [],
   "source": [
    "x_axis = df_7day_volume_clean['Date']\n",
    "y_axis = df_7day_volume_clean['Volume']\n",
    "\n",
    "figure, ax = plt.subplots()\n",
    "ax.bar(x_axis,y_axis,edgecolor='b')\n",
    "ax.plot(x_axis,y_axis,c='red')\n",
    "ax.grid(color='white')\n",
    "ax.set_ylim(0,700000000)\n",
    "ax.set_title(f'Volume vs. Weekly (2years)',size = 40)\n",
    "ax.set_xlabel('Date (Weekly)',fontsize = 40)\n",
    "ax.set_ylabel('Volume',fontsize = 40)\n",
    "ax.set_facecolor('lightblue')\n",
    "figure.set_figheight(25)\n",
    "figure.set_figwidth(80)\n",
    "ax.tick_params(axis='both', labelsize=40)\n",
    "#plt.savefig(os.path.join(f'City Latitude vs Max Temperature.png'))\n",
    "plt.show()"
   ]
  },
  {
   "cell_type": "code",
   "execution_count": null,
   "metadata": {},
   "outputs": [],
   "source": [
    "#7 days x 10 weeks \n",
    "#7 days x 40 weeks = 280\n",
    "bin_length_10week = len(df_fb_tq_2year.index) / 70\n",
    "bin_length_40week = len(df_fb_tq_2year.index) / 280"
   ]
  },
  {
   "cell_type": "code",
   "execution_count": null,
   "metadata": {},
   "outputs": [],
   "source": [
    "bin_length_ten = np.round(bin_length_10week)\n",
    "bin_length_forty = np.round(bin_length_40week)"
   ]
  },
  {
   "cell_type": "code",
   "execution_count": null,
   "metadata": {},
   "outputs": [],
   "source": [
    "df_by_close_10week =  df_fb_tq_2year.groupby(pd.cut(df_fb_tq_2year.index, bins=bin_length_ten, \n",
    "        precision=0))[\"Adj. Close\"].sum()\n",
    "df_by_close_40week =  df_fb_tq_2year.groupby(pd.cut(df_fb_tq_2year.index, bins=bin_length_forty, \n",
    "        precision=0))[\"Adj. Close\"].sum()"
   ]
  },
  {
   "cell_type": "code",
   "execution_count": null,
   "metadata": {},
   "outputs": [],
   "source": [
    "df_by_close_10week = pd.DataFrame(df_by_close_10week)\n",
    "df_by_close_40week = pd.DataFrame(df_by_close_40week)"
   ]
  },
  {
   "cell_type": "code",
   "execution_count": null,
   "metadata": {},
   "outputs": [],
   "source": [
    "df_by_close_10week = df_by_close_10week.reset_index(drop=True)\n",
    "df_by_close_40week = df_by_close_40week.reset_index(drop=True)"
   ]
  },
  {
   "cell_type": "code",
   "execution_count": null,
   "metadata": {},
   "outputs": [],
   "source": [
    "df_by_close_10week['Adj. Close'] = df_by_close_10week['Adj. Close'] / 70\n",
    "df_by_close_40week['Adj. Close'] = df_by_close_40week['Adj. Close'] / 280"
   ]
  },
  {
   "cell_type": "code",
   "execution_count": null,
   "metadata": {},
   "outputs": [],
   "source": [
    "df_10week_avg = df_by_close_10week\n",
    "df_40week_avg = df_by_close_40week"
   ]
  },
  {
   "cell_type": "code",
   "execution_count": null,
   "metadata": {},
   "outputs": [],
   "source": [
    "df_10week_avg"
   ]
  },
  {
   "cell_type": "code",
   "execution_count": null,
   "metadata": {},
   "outputs": [],
   "source": [
    "df_40week_avg"
   ]
  },
  {
   "cell_type": "code",
   "execution_count": null,
   "metadata": {},
   "outputs": [],
   "source": []
  },
  {
   "cell_type": "markdown",
   "metadata": {},
   "source": [
    "# Will need to split data into the following tables to graph them.\n",
    "Volumne and Date.\n",
    "Open and Date\n",
    "High and Date\n",
    "Open minus Close\n"
   ]
  },
  {
   "cell_type": "code",
   "execution_count": null,
   "metadata": {},
   "outputs": [],
   "source": []
  },
  {
   "cell_type": "code",
   "execution_count": null,
   "metadata": {},
   "outputs": [],
   "source": [
    "df_fb_tq"
   ]
  },
  {
   "cell_type": "code",
   "execution_count": null,
   "metadata": {},
   "outputs": [],
   "source": []
  },
  {
   "cell_type": "code",
   "execution_count": null,
   "metadata": {},
   "outputs": [],
   "source": [
    "connection_string = 'postgres:root123@localhost:5432/mission_spacex'\n",
    "engine = create_engine(f'postgresql://{connection_string}')"
   ]
  },
  {
   "cell_type": "code",
   "execution_count": null,
   "metadata": {},
   "outputs": [],
   "source": [
    "df1.to_sql(name='tablename1',con=engine,if_exists='replace',index=True)"
   ]
  },
  {
   "cell_type": "code",
   "execution_count": null,
   "metadata": {},
   "outputs": [],
   "source": [
    "df2.to_sql(name='tablename2', con=engine,if_exists='replace', index=False)"
   ]
  },
  {
   "cell_type": "code",
   "execution_count": null,
   "metadata": {},
   "outputs": [],
   "source": []
  },
  {
   "cell_type": "code",
   "execution_count": null,
   "metadata": {},
   "outputs": [],
   "source": []
  },
  {
   "cell_type": "code",
   "execution_count": null,
   "metadata": {},
   "outputs": [],
   "source": [
    "style.use('ggplot')"
   ]
  },
  {
   "cell_type": "code",
   "execution_count": null,
   "metadata": {},
   "outputs": [],
   "source": [
    "start = dt.datetime(2000,1,1)\n",
    "end = dt.datetime(2016,12,31)"
   ]
  },
  {
   "cell_type": "code",
   "execution_count": null,
   "metadata": {},
   "outputs": [],
   "source": [
    "dates = []\n",
    "prices = []"
   ]
  },
  {
   "cell_type": "code",
   "execution_count": null,
   "metadata": {},
   "outputs": [],
   "source": [
    "def get_data(filename):\n",
    "    with open(filename, 'r') as csvfile:\n",
    "        csvFileReader = csv.reader(csvfile)\n",
    "        next(csvFileReader)\n",
    "        for row in csvFileReader:\n",
    "            dates.append(int(row[0].split('-')[0]))\n",
    "            prices.append(float(row[1]))\n",
    "    return"
   ]
  },
  {
   "cell_type": "code",
   "execution_count": null,
   "metadata": {},
   "outputs": [],
   "source": [
    "def predict_prices(dates,prices,x):\n",
    "    "
   ]
  }
 ],
 "metadata": {
  "kernelspec": {
   "display_name": "Python 3",
   "language": "python",
   "name": "python3"
  },
  "language_info": {
   "codemirror_mode": {
    "name": "ipython",
    "version": 3
   },
   "file_extension": ".py",
   "mimetype": "text/x-python",
   "name": "python",
   "nbconvert_exporter": "python",
   "pygments_lexer": "ipython3",
   "version": "3.7.3"
  }
 },
 "nbformat": 4,
 "nbformat_minor": 2
}
