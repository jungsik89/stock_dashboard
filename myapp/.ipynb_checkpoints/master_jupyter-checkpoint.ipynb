{
 "cells": [
  {
   "cell_type": "code",
   "execution_count": 1,
   "metadata": {},
   "outputs": [],
   "source": [
    "import pandas as pd\n",
    "from sqlalchemy import create_engine\n",
    "import requests\n",
    "import time\n",
    "import os\n",
    "from pandas.io.json import json_normalize\n",
    "#importing modules "
   ]
  },
  {
   "cell_type": "code",
   "execution_count": 2,
   "metadata": {},
   "outputs": [],
   "source": [
    "#START CODE HERE#\n",
    "#EXTRACT#\n",
    "x = ['capsules',\n",
    "     'cores',\n",
    "     'dragons',\n",
    "     'history',\n",
    "     'info',\n",
    "     'landpads',\n",
    "     'launches',\n",
    "     'launchpads',\n",
    "     'missions',\n",
    "     'payloads',\n",
    "     'rockets',\n",
    "     'roadster',\n",
    "     'ships']\n",
    "#url links to extract all data from SpaceX API website\n",
    "\n",
    "collection_df = pd.DataFrame(x,columns=['collection'])\n",
    "\n",
    "#creating a dataframe to loop through"
   ]
  },
  {
   "cell_type": "code",
   "execution_count": 3,
   "metadata": {},
   "outputs": [],
   "source": [
    "#creating an empty list to loop through and append each API call.\n",
    "spacex_all = []\n",
    "for x in collection_df['collection']:\n",
    "    url = 'https://api.spacexdata.com/v3/'+x\n",
    "    response = requests.get(url).json()\n",
    "    spacex_all.append(response)"
   ]
  },
  {
   "cell_type": "code",
   "execution_count": 4,
   "metadata": {},
   "outputs": [],
   "source": [
    "collection_names = [x for x in collection_df['collection'] + '_df']\n",
    "    \n",
    "capsules_df = pd.DataFrame(spacex_all[0])\n",
    "cores_df=pd.DataFrame(spacex_all[1])\n",
    "dragons_df=pd.DataFrame(spacex_all[2])\n",
    "history_df=pd.DataFrame(spacex_all[3])\n",
    "Info_df=pd.DataFrame(spacex_all[4])\n",
    "landpads_df=pd.DataFrame(spacex_all[5])\n",
    "launches_df=pd.DataFrame(spacex_all[6])\n",
    "launchpads_df=pd.DataFrame(spacex_all[7])\n",
    "missions_df=pd.DataFrame(spacex_all[8])\n",
    "payloads_df=pd.DataFrame(spacex_all[9])\n",
    "rockets_df=pd.DataFrame(spacex_all[10])s\n",
    "roadster_df=pd.DataFrame(spacex_all[11])\n",
    "ships_df=pd.DataFrame(spacex_all[12])\n",
    "\n",
    "#assigning each API call to their own DataFrame for Transformation"
   ]
  },
  {
   "cell_type": "code",
   "execution_count": 5,
   "metadata": {},
   "outputs": [],
   "source": [
    "#TRANSFORM\n",
    "#definding some methods to trasnform columns with different date format.\n",
    "\n",
    "def convertdate(x):\n",
    "    x = pd.to_datetime(x,format='%Y-%m-%d')\n",
    "    return x\n",
    "\n",
    "def convertunix(x):\n",
    "    x = pd.to_datetime(x,unit='s')\n",
    "    return x"
   ]
  },
  {
   "cell_type": "code",
   "execution_count": 6,
   "metadata": {},
   "outputs": [],
   "source": [
    "#Capsules Data Transformation\n",
    "\n",
    "capsules_df = capsules_df[['capsule_id','capsule_serial','details','original_launch','landings','missions','type','reuse_count','status']].copy()\n",
    "capsules_df['original_launch'] = capsules_df['original_launch'].apply(convertdate)\n",
    "capsules_df['mission_name'] = capsules_df['missions'][0:14].apply(lambda x: x[0]['name'])\n",
    "capsules_df['mission_flight'] = capsules_df['missions'][0:14].apply(lambda x: x[0]['flight'])\n",
    "capsules_df = capsules_df.drop(columns='missions')\n",
    "#capsules df ready for import"
   ]
  },
  {
   "cell_type": "code",
   "execution_count": 7,
   "metadata": {},
   "outputs": [],
   "source": [
    "#Cores Data Transformation\n",
    "\n",
    "cores_df=cores_df[['core_serial','details','missions','asds_attempts','asds_landings',\n",
    "                    'block','original_launch','reuse_count','rtls_attempts','rtls_landings','water_landing',\n",
    "                    'status']].copy()\n",
    "cores_df['mission_name'] = cores_df['missions'][0:62].apply(lambda x: x[0]['name'])\n",
    "cores_df['mission_flight'] = cores_df['missions'][0:62].apply(lambda x: x[0]['flight'])\n",
    "cores_df['block'] = cores_df['block'].fillna(value='0')\n",
    "cores_df['original_launch'] = cores_df['original_launch'].apply(convertdate)\n",
    "cores_df=cores_df[['core_serial','details','mission_name','mission_flight','asds_attempts','asds_landings',\n",
    "                    'block','original_launch','reuse_count','rtls_attempts','rtls_landings','water_landing',\n",
    "                    'status']].copy()\n",
    "#cores_df is ready for export"
   ]
  },
  {
   "cell_type": "code",
   "execution_count": 8,
   "metadata": {},
   "outputs": [],
   "source": [
    "#Launches Data Transformation\n",
    "\n",
    "launches_df = launches_df[['flight_number','mission_name','mission_id','upcoming','launch_year','launch_date_unix',\\\n",
    "                          'is_tentative','tentative_max_precision','rocket','ships','launch_site','launch_success',\\\n",
    "                          'launch_failure_details','links','details','static_fire_date_utc']].copy()\n",
    "launches_df['launch_date_unix'] = launches_df['launch_date_unix'].apply(convertdate)\n",
    "launches_df['static_fire_date_utc'] = launches_df['static_fire_date_utc'].apply(convertdate)\n",
    "launches_df = launches_df.drop(columns=['rocket','launch_site','launch_failure_details','links'])\n",
    "launch_df = launches_df.rename(columns={'launch_date_unix':'launch_date'})\n",
    "launch_df = launches_df.rename(columns={'static_fire_date_utc':'static_fire_date'})"
   ]
  },
  {
   "cell_type": "code",
   "execution_count": 9,
   "metadata": {},
   "outputs": [],
   "source": [
    "#Missions Data Transformation\n",
    "\n",
    "missions_df=missions_df[['mission_id','mission_name','description','manufacturers','payload_ids','twitter','website','wikipedia']].copy()"
   ]
  },
  {
   "cell_type": "code",
   "execution_count": 15,
   "metadata": {},
   "outputs": [],
   "source": [
    "#Payloads Data Transformation\n",
    "\n",
    "payloads_df=payloads_df[['payload_id','payload_type','cap_serial','cargo_manifest','customers',\n",
    "                         'flight_time_sec','manufacturer','mass_returned_kg','nationality',\n",
    "                         'norad_id','orbit','payload_mass_kg','reused']].copy()\n"
   ]
  },
  {
   "cell_type": "code",
   "execution_count": 11,
   "metadata": {},
   "outputs": [],
   "source": [
    "#Create Connection String to SQL Server (pgAdmin)\n",
    "\n",
    "connection_string = 'postgres:root123@localhost:5432/mission_spacex'\n",
    "engine = create_engine(f'postgresql://{connection_string}')"
   ]
  },
  {
   "cell_type": "code",
   "execution_count": 12,
   "metadata": {},
   "outputs": [],
   "source": [
    "#load the finalized transformation data into SQL Server\n",
    "\n",
    "missions_df.to_sql(name='missions',con=engine,if_exists='replace',index=True)"
   ]
  },
  {
   "cell_type": "code",
   "execution_count": 17,
   "metadata": {},
   "outputs": [],
   "source": [
    "payloads_df.to_sql(name='payloads',con=engine,if_exists='replace',index=True)"
   ]
  },
  {
   "cell_type": "code",
   "execution_count": 18,
   "metadata": {},
   "outputs": [],
   "source": [
    "capsules_df.to_sql(name='capsules', con=engine,if_exists='replace', index=False)"
   ]
  },
  {
   "cell_type": "code",
   "execution_count": 19,
   "metadata": {},
   "outputs": [],
   "source": [
    "launches_df.to_sql(name='launches',con=engine,if_exists='replace',index=False)"
   ]
  },
  {
   "cell_type": "code",
   "execution_count": 21,
   "metadata": {},
   "outputs": [],
   "source": [
    "cores_df.to_sql(name='cores',con=engine,if_exists='replace',index=False)"
   ]
  }
 ],
 "metadata": {
  "kernelspec": {
   "display_name": "Python 3",
   "language": "python",
   "name": "python3"
  },
  "language_info": {
   "codemirror_mode": {
    "name": "ipython",
    "version": 3
   },
   "file_extension": ".py",
   "mimetype": "text/x-python",
   "name": "python",
   "nbconvert_exporter": "python",
   "pygments_lexer": "ipython3",
   "version": "3.7.3"
  }
 },
 "nbformat": 4,
 "nbformat_minor": 2
}
